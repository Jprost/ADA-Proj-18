{
 "cells": [
  {
   "cell_type": "code",
   "execution_count": 1,
   "metadata": {},
   "outputs": [],
   "source": [
    "# Import libraries\n",
    "import re\n",
    "import nltk\n",
    "import pickle\n",
    "import requests\n",
    "\n",
    "import numpy as np\n",
    "import pandas as pd\n",
    "import datetime as dt \n",
    "import matplotlib.pyplot as plt\n",
    "\n",
    "from bokeh.models import *\n",
    "from bokeh.plotting import *\n",
    "from datetime import datetime\n",
    "from bs4 import BeautifulSoup\n",
    "from collections import Counter\n",
    "from gensim.models import Word2Vec\n",
    "from bokeh.layouts import column, row\n",
    "from bokeh.palettes import Category20, Viridis256\n",
    "from nltk.stem import PorterStemmer, WordNetLemmatizer\n",
    "from nltk.corpus import stopwords, wordnet, brown, words"
   ]
  },
  {
   "cell_type": "code",
   "execution_count": 2,
   "metadata": {},
   "outputs": [
    {
     "name": "stdout",
     "output_type": "stream",
     "text": [
      "[nltk_data] Downloading package words to /Users/Jean-\n",
      "[nltk_data]     BaptistePROST/nltk_data...\n",
      "[nltk_data]   Package words is already up-to-date!\n"
     ]
    },
    {
     "data": {
      "text/plain": [
       "True"
      ]
     },
     "execution_count": 2,
     "metadata": {},
     "output_type": "execute_result"
    }
   ],
   "source": [
    "nltk.download('words')"
   ]
  },
  {
   "cell_type": "code",
   "execution_count": 3,
   "metadata": {},
   "outputs": [],
   "source": [
    "data='Data/russian-troll-tweets/IRAhandle_tweets_'\n",
    "pickle_files='Pickles/'\n",
    "WORD_FREQ = 'Data/wordfrea.xlsx'\n",
    "plot_files='Plots/'\n",
    "csv_files='CSV/'"
   ]
  },
  {
   "cell_type": "markdown",
   "metadata": {},
   "source": [
    "# Introduction"
   ]
  },
  {
   "cell_type": "markdown",
   "metadata": {},
   "source": [
    "The goal of this notebook is to represent the tweet by topics (tahter than category). <br>\n",
    "\n",
    "By looking at the most popular hastag per day, we decided to define arbitrary categories that seemed relevant to characterized the tweets. A first list of words was build for each topic (~ 7 words/topic), then the `Word2Vec` model was used to exten the list. The model enables to find the words that have a large (cosine) similarity the the its word space. The topic became ~10 times larger. <br>\n",
    "\n",
    "The tweet activity (number of tweets per day) for each topic was ploted. Clear peaks of activity were observable. \n",
    "Are those peaks related to a specific event?\n",
    "\n",
    "\n",
    "To figure this out, we used [Wiki Portal](https://en.wikipedia.org/wiki/Portal:Current_events) to retrived the information about the event of a particular day. An automatic event dector was build. For every spike of each topic, we tryed to match an event description scrapped from Wiki Portal.<br>\n",
    "We were thus able to label some peak of the tweet activity for each category."
   ]
  },
  {
   "cell_type": "markdown",
   "metadata": {
    "heading_collapsed": true
   },
   "source": [
    "# Data Loading & Word2Vec model"
   ]
  },
  {
   "cell_type": "code",
   "execution_count": 4,
   "metadata": {
    "hidden": true
   },
   "outputs": [],
   "source": [
    "#loading data build in Word2vec.ipynb\n",
    "def load_df(filename=(pickle_files+'df_final.pkl')):\n",
    "    with open(filename, 'rb') as d:\n",
    "        df=pickle.load(d)\n",
    "    print(' DafaFrame loaded <--')\n",
    "    return df"
   ]
  },
  {
   "cell_type": "code",
   "execution_count": 5,
   "metadata": {
    "hidden": true
   },
   "outputs": [
    {
     "name": "stdout",
     "output_type": "stream",
     "text": [
      " DafaFrame loaded <--\n"
     ]
    },
    {
     "data": {
      "text/html": [
       "<div>\n",
       "<style scoped>\n",
       "    .dataframe tbody tr th:only-of-type {\n",
       "        vertical-align: middle;\n",
       "    }\n",
       "\n",
       "    .dataframe tbody tr th {\n",
       "        vertical-align: top;\n",
       "    }\n",
       "\n",
       "    .dataframe thead th {\n",
       "        text-align: right;\n",
       "    }\n",
       "</style>\n",
       "<table border=\"1\" class=\"dataframe\">\n",
       "  <thead>\n",
       "    <tr style=\"text-align: right;\">\n",
       "      <th></th>\n",
       "      <th>publish_date</th>\n",
       "      <th>content</th>\n",
       "      <th>account_category</th>\n",
       "      <th>Clean_tweet</th>\n",
       "      <th>hashtags</th>\n",
       "    </tr>\n",
       "  </thead>\n",
       "  <tbody>\n",
       "    <tr>\n",
       "      <th>0</th>\n",
       "      <td>2017-10-01</td>\n",
       "      <td>\"We have a sitting Democrat US Senator on tria...</td>\n",
       "      <td>RightTroll</td>\n",
       "      <td>[sit, democrat, us, senat, trial, corrupt, bar...</td>\n",
       "      <td>[]</td>\n",
       "    </tr>\n",
       "    <tr>\n",
       "      <th>1</th>\n",
       "      <td>2017-10-01</td>\n",
       "      <td>Marshawn Lynch arrives to game in anti-Trump s...</td>\n",
       "      <td>RightTroll</td>\n",
       "      <td>[marshawn, lynch, arriv, game, anti-trump, shi...</td>\n",
       "      <td>[]</td>\n",
       "    </tr>\n",
       "    <tr>\n",
       "      <th>2</th>\n",
       "      <td>2017-10-01</td>\n",
       "      <td>Daughter of fallen Navy Sailor delivers powerf...</td>\n",
       "      <td>RightTroll</td>\n",
       "      <td>[daughter, fallen, navi, sailor, deliv, power,...</td>\n",
       "      <td>[#BoycottNFL]</td>\n",
       "    </tr>\n",
       "    <tr>\n",
       "      <th>3</th>\n",
       "      <td>2017-10-01</td>\n",
       "      <td>JUST IN: President Trump dedicates Presidents ...</td>\n",
       "      <td>RightTroll</td>\n",
       "      <td>[presid, trump, dedic, presid, cup, golf, tour...</td>\n",
       "      <td>[]</td>\n",
       "    </tr>\n",
       "    <tr>\n",
       "      <th>4</th>\n",
       "      <td>2017-10-01</td>\n",
       "      <td>19,000 RESPECTING our National Anthem! #StandF...</td>\n",
       "      <td>RightTroll</td>\n",
       "      <td>[respect, nation, anthem, stand, anthem]</td>\n",
       "      <td>[#StandForOurAnthem]</td>\n",
       "    </tr>\n",
       "  </tbody>\n",
       "</table>\n",
       "</div>"
      ],
      "text/plain": [
       "  publish_date                                            content  \\\n",
       "0   2017-10-01  \"We have a sitting Democrat US Senator on tria...   \n",
       "1   2017-10-01  Marshawn Lynch arrives to game in anti-Trump s...   \n",
       "2   2017-10-01  Daughter of fallen Navy Sailor delivers powerf...   \n",
       "3   2017-10-01  JUST IN: President Trump dedicates Presidents ...   \n",
       "4   2017-10-01  19,000 RESPECTING our National Anthem! #StandF...   \n",
       "\n",
       "  account_category                                        Clean_tweet  \\\n",
       "0       RightTroll  [sit, democrat, us, senat, trial, corrupt, bar...   \n",
       "1       RightTroll  [marshawn, lynch, arriv, game, anti-trump, shi...   \n",
       "2       RightTroll  [daughter, fallen, navi, sailor, deliv, power,...   \n",
       "3       RightTroll  [presid, trump, dedic, presid, cup, golf, tour...   \n",
       "4       RightTroll           [respect, nation, anthem, stand, anthem]   \n",
       "\n",
       "               hashtags  \n",
       "0                    []  \n",
       "1                    []  \n",
       "2         [#BoycottNFL]  \n",
       "3                    []  \n",
       "4  [#StandForOurAnthem]  "
      ]
     },
     "execution_count": 5,
     "metadata": {},
     "output_type": "execute_result"
    }
   ],
   "source": [
    "df=load_df()\n",
    "df.head()"
   ]
  },
  {
   "cell_type": "markdown",
   "metadata": {
    "hidden": true
   },
   "source": [
    "*Word Freq* is a online dictionary (wordfrequency.info) that gives the occurency the 5000 most commun english words."
   ]
  },
  {
   "cell_type": "code",
   "execution_count": 6,
   "metadata": {
    "hidden": true
   },
   "outputs": [
    {
     "data": {
      "text/html": [
       "<div>\n",
       "<style scoped>\n",
       "    .dataframe tbody tr th:only-of-type {\n",
       "        vertical-align: middle;\n",
       "    }\n",
       "\n",
       "    .dataframe tbody tr th {\n",
       "        vertical-align: top;\n",
       "    }\n",
       "\n",
       "    .dataframe thead th {\n",
       "        text-align: right;\n",
       "    }\n",
       "</style>\n",
       "<table border=\"1\" class=\"dataframe\">\n",
       "  <thead>\n",
       "    <tr style=\"text-align: right;\">\n",
       "      <th></th>\n",
       "      <th>Word</th>\n",
       "      <th>PoS</th>\n",
       "      <th>Frequency</th>\n",
       "    </tr>\n",
       "    <tr>\n",
       "      <th>Rank</th>\n",
       "      <th></th>\n",
       "      <th></th>\n",
       "      <th></th>\n",
       "    </tr>\n",
       "  </thead>\n",
       "  <tbody>\n",
       "    <tr>\n",
       "      <th>1.0</th>\n",
       "      <td>the</td>\n",
       "      <td>a</td>\n",
       "      <td>0.066825</td>\n",
       "    </tr>\n",
       "    <tr>\n",
       "      <th>2.0</th>\n",
       "      <td>be</td>\n",
       "      <td>v</td>\n",
       "      <td>0.038041</td>\n",
       "    </tr>\n",
       "    <tr>\n",
       "      <th>3.0</th>\n",
       "      <td>and</td>\n",
       "      <td>c</td>\n",
       "      <td>0.032569</td>\n",
       "    </tr>\n",
       "    <tr>\n",
       "      <th>4.0</th>\n",
       "      <td>of</td>\n",
       "      <td>i</td>\n",
       "      <td>0.031365</td>\n",
       "    </tr>\n",
       "    <tr>\n",
       "      <th>5.0</th>\n",
       "      <td>a</td>\n",
       "      <td>a</td>\n",
       "      <td>0.030759</td>\n",
       "    </tr>\n",
       "  </tbody>\n",
       "</table>\n",
       "</div>"
      ],
      "text/plain": [
       "     Word PoS  Frequency\n",
       "Rank                    \n",
       "1.0   the   a   0.066825\n",
       "2.0    be   v   0.038041\n",
       "3.0   and   c   0.032569\n",
       "4.0    of   i   0.031365\n",
       "5.0     a   a   0.030759"
      ]
     },
     "execution_count": 6,
     "metadata": {},
     "output_type": "execute_result"
    }
   ],
   "source": [
    "#load data frequency from http://www.wordfrequency.info\n",
    "wordfrequency = pd.read_excel(WORD_FREQ, header=0, index_col=[0], usecols=3).dropna()\n",
    "wordfrequency.Frequency = wordfrequency.Frequency/(wordfrequency.Frequency.sum())\n",
    "wordfrequency.rename(columns={'\\xa0\\xa0\\xa0Word' : 'Word', 'Part of speech' : 'PoS'}, inplace=True)\n",
    "wordfrequency.Word = wordfrequency.apply(lambda row: row['Word'].replace(\"\\xa0\\xa0\\xa0\", ''), axis=1)\n",
    "\n",
    "#5 most communs words\n",
    "wordfrequency.head(5)"
   ]
  },
  {
   "cell_type": "markdown",
   "metadata": {
    "hidden": true
   },
   "source": [
    "**Word2Vec model**"
   ]
  },
  {
   "cell_type": "code",
   "execution_count": 7,
   "metadata": {
    "hidden": true
   },
   "outputs": [
    {
     "name": "stdout",
     "output_type": "stream",
     "text": [
      "Word2Vec(vocab=29316, size=100, alpha=0.025)\n"
     ]
    }
   ],
   "source": [
    "embedding=100\n",
    "#non empty clean tweet\n",
    "tweets=df[df.Clean_tweet.isnull()==False]['Clean_tweet'] #take non empty clean tweet\n",
    "\n",
    "model = Word2Vec(tweets.tolist(), min_count=1, size=embedding, seed=12)\n",
    "vocab_model=model.wv.vocab\n",
    "print(model)"
   ]
  },
  {
   "cell_type": "markdown",
   "metadata": {},
   "source": [
    "# Topics"
   ]
  },
  {
   "cell_type": "markdown",
   "metadata": {
    "heading_collapsed": true
   },
   "source": [
    "## List"
   ]
  },
  {
   "cell_type": "markdown",
   "metadata": {
    "hidden": true
   },
   "source": [
    "We have identify a list of topic that are frequent and were a debat at the time. The list will get expanded thanks to the Word2Vec model. The words that hace a (cosine) similarity larger than a threshold (0.6) are kept and appended to the list of topics."
   ]
  },
  {
   "cell_type": "markdown",
   "metadata": {
    "hidden": true
   },
   "source": [
    "### Build extended list"
   ]
  },
  {
   "cell_type": "code",
   "execution_count": 8,
   "metadata": {
    "hidden": true
   },
   "outputs": [],
   "source": [
    "stemmer = PorterStemmer()\n",
    "\n",
    "def get_related_words(topics, model, min_similarity=0.6):\n",
    "    \"\"\"Get the words that are similar in the word2vec space. \n",
    "    min_similarity determines the threshold of similarity\n",
    "    RETURNS: an extendent list for each topics\"\"\"\n",
    "    topic_extended=[] #new list of words\n",
    "    \n",
    "    for topic in topics:\n",
    "        new_words=[]\n",
    "       \n",
    "        for idx, word_raw in enumerate(topic):\n",
    "            #modifies the wors as in the preprocessing\n",
    "            word=stemmer.stem(word_raw.lower())\n",
    "            \n",
    "            if idx == 0:\n",
    "                new_words.append(word_raw)\n",
    "                new_words.append(word)\n",
    "            \n",
    "            try: #if the word is in the vocab\n",
    "                related=model.wv.most_similar(word, topn=30) \n",
    "                new_words+=[related[idx][0] for idx, _ in enumerate(related) if related[idx][1] >= min_similarity] + [word]\n",
    "            \n",
    "            except KeyError: #the word is not in the vocabulary (anymore)\n",
    "                continue\n",
    "                \n",
    "        topic_extended.append(new_words)\n",
    "    \n",
    "    return topic_extended\n",
    "\n",
    "\n",
    "#We will create a new col of stemmed words of wiki's events to compare with tweets keywords\n",
    "link_numbers=('http', '0', '1', '2', '3', '4', '5', '6', '7', '8', '9', '-') #\n",
    "stemmer = PorterStemmer()\n",
    "stop_w=[word.replace('\\'','') for word in stopwords.words('english')]+ ['', '&amp', 'amp','rt'] \n",
    "\n",
    "def tokenize(text):\n",
    "    \"\"\"Split the the text into a list of cleaned words\"\"\"\n",
    "    text_cleaned = ''.join(ch for ch in text if ch not in '#!\"$%&\\()*+,./:;<=>?@[\\\\]^_{|}~\\'').split(' ') \n",
    "    \n",
    "    words= [word.lower().encode('ascii',errors='ignore').decode() for word in text_cleaned \\\n",
    "            if not ( (word.startswith(link_numbers)) | (word.endswith(link_numbers)) )]\n",
    "    \n",
    "    words=[stemmer.stem(word) for word in words if word not in stop_w ]\n",
    "        \n",
    "    if len(words) > 0:\n",
    "        return words\n",
    "    else: #tweets that contains only links or emojiis ...\n",
    "        pass\n"
   ]
  },
  {
   "cell_type": "code",
   "execution_count": 9,
   "metadata": {
    "hidden": true
   },
   "outputs": [
    {
     "name": "stdout",
     "output_type": "stream",
     "text": [
      "We have chosen 23 topics (190 words):\n",
      "    Music\n",
      "    Movies\n",
      "    Trump\n",
      "    Hillary\n",
      "    Religion\n",
      "    Conservative\n",
      "    Fear\n",
      "    BlackLivesMatter\n",
      "    Voter\n",
      "    MeToo\n",
      "    Terrorism\n",
      "    Hacking\n",
      "    Sanders\n",
      "    Obama\n",
      "    FakeNews\n",
      "    Gouvernment\n",
      "    Healthcare\n",
      "    Gun\n",
      "    Sport\n",
      "    Scandal\n",
      "    Election\n",
      "    Charlottesville\n",
      "    Economy\n"
     ]
    }
   ],
   "source": [
    "#the firs word of the list represents the concept of each list.\n",
    "topics_raw=[['Music', 'lyrics', 'album','musician', 'nowplaying', 'soundcloud','rap', 'rnb','hip-hop', 'eminem','nas', 'horsemen', 'dj', 'wayne', 'snoop', 'youtube', 'drake'],\\\n",
    "        ['Movies', 'tv', 'actor', 'netflix', 'trailer', 'must-see', 'episod', 'serie', 'marvel'],\\\n",
    "        ['Trump', 'melania', 'Donald', 'trump2016','realdonaldtrump', 'anti-trump', 'maga', 'MakeAmericaGreatAgain'],\\\n",
    "        ['Hillary', 'hilliari',  'HeforShe', 'IamWithHer', 'crookedHillary', 'clinton','killari','neverhillari', ],\\\n",
    "        ['Religion', 'islam', 'christianism', 'judaism'],\\\n",
    "        ['Conservative', 'tcot', 'ccot', 'pjnet'],\\\n",
    "        ['Fear', 'Korea', 'North', 'NorthKorea', 'Russia', 'putin', 'Geopolotics', 'kim', 'jong', 'kimjongun'],\\\n",
    "        ['BlackLivesMatter','BlackLiveMatters', 'black', 'trayvonmartin', 'trayvon','martin', 'mikebrown', 'sandrabland', 'bland', 'kaepernick','policeviolence', 'brutality' , 'fuckthepolice', 'cop', \\\n",
    "         'racial', 'blacktwitter', 'colin', 'kaepernick','racism' , 'blm', 'hill', 'MillionManMarch', 'amerikkka', 'whitesupremacy', 'harris', 'tyrone',\\\n",
    "         'racisme', 'blacktwitter', 'TamirRice', 'slavery', 'garner', 'pro-black', 'wearealltrayvon'],\\\n",
    "        ['Voter', 'fraud', 'registration'],\\\n",
    "        ['MeToo', 'Weinstein', 'sexual', 'harassment', 'predator', 'feminist'],\\\n",
    "        ['Terrorism', 'terror' 'terrorist', 'parisattack', 'londonattack', 'shootings', 'baltimore', 'bombings', 'explosion', 'Chattanooga', 'prayforbrussel', 'brussel', 'massacre', 'Bernardino', 'SanBernardino'],\\\n",
    "        ['Hacking', 'emails', 'DNC'],\\\n",
    "        ['Sanders', 'bernie', 'bern'],\\\n",
    "        ['Obama', 'barack', 'michelle'],\\\n",
    "        ['FakeNews', 'fakenewsmedia', 'hoax', 'debunk'],\\\n",
    "        ['Gouvernment', 'senator', 'mcconnel', 'gongress', 'lawmaker'],\\\n",
    "        ['Healthcare', 'obamacare', 'medicaid', 'aca'],\\\n",
    "        ['Gun', 'self-defense', 'carry', 'backgroundcheck', '2a'],\\\n",
    "        ['Sport', 'NBA', 'basketball', 'playoff', 'hockey', 'mvp', 'football', 'soccer', 'tournament', 'championship'],\\\n",
    "        ['Scandal', 'money', 'WellsFargo', 'Fargo', 'ImranAwan', 'Imran', 'Awan', 'Wasserman'],\\\n",
    "        ['Election', 'campaign', 'GOP','gopdebate', 'DNC', 'Dem', 'demdebate', 'vote', 'Ivoted', 'debate', 'primary', 'convention', 'america'],\\\n",
    "        ['Charlottesville','alt-righ', 'alt-left',  'neonazi', 'neo-nazi','kkk', 'klan', 'supremacist', 'unitetheright'], \\\n",
    "        ['Economy', 'deal', 'Nafta','stock', 'market','bitcoin', 'nasdaq']]\n",
    "\n",
    "print('We have chosen {} topics ({} words):\\n    {}'.format(len(topics_raw), len(sum(topics_raw,[])), '\\n    '.join([topic[0] for topic in topics_raw])))\n",
    "\n",
    "topics_treated=[]\n",
    "for topic in topics_raw:\n",
    "    topics_treated.append([word.lower() for word in topic])"
   ]
  },
  {
   "cell_type": "markdown",
   "metadata": {
    "hidden": true
   },
   "source": [
    "**Extending the list:**"
   ]
  },
  {
   "cell_type": "code",
   "execution_count": 10,
   "metadata": {
    "hidden": true
   },
   "outputs": [
    {
     "name": "stdout",
     "output_type": "stream",
     "text": [
      "The extended list is 1790 long. It can be read at the end of the Notebook.\n"
     ]
    }
   ],
   "source": [
    "topic_extended=get_related_words(topics_raw, model, min_similarity=0.6)\n",
    "\n",
    "print('The extended list is {} long. It can be read at the end of the Notebook.'.format(len(sum(topic_extended,[]))))"
   ]
  },
  {
   "cell_type": "markdown",
   "metadata": {
    "hidden": true
   },
   "source": [
    "**Vectorizing tweets** <br>\n",
    "Each tweet with respect to the topic. If a tweet contains a word contained in the list of a certain topic, then it will have a non null composant in this topic column."
   ]
  },
  {
   "cell_type": "code",
   "execution_count": 11,
   "metadata": {
    "hidden": true
   },
   "outputs": [],
   "source": [
    "def tweet_topics(df, topic_extended):\n",
    "    \"\"\"Add a column corresponding to each topic. Fills 1 if the tweet has a word \n",
    "    related to the topic, 0 otherwise \"\"\" \n",
    "    \n",
    "    df_tmp=df[df['Clean_tweet'].isnull()==False]['Clean_tweet']\n",
    "    for topic in topic_extended:\n",
    "        df[topic[0]]= df_tmp.apply(lambda words: 1 if len(set(words) & set(topic))> 0 else 0)\n",
    "        df[topic[0]].fillna(0, inplace=True)\n",
    "\n",
    "tweet_topics(df, topic_extended)"
   ]
  },
  {
   "cell_type": "code",
   "execution_count": 12,
   "metadata": {
    "hidden": true
   },
   "outputs": [
    {
     "data": {
      "text/html": [
       "<div>\n",
       "<style scoped>\n",
       "    .dataframe tbody tr th:only-of-type {\n",
       "        vertical-align: middle;\n",
       "    }\n",
       "\n",
       "    .dataframe tbody tr th {\n",
       "        vertical-align: top;\n",
       "    }\n",
       "\n",
       "    .dataframe thead th {\n",
       "        text-align: right;\n",
       "    }\n",
       "</style>\n",
       "<table border=\"1\" class=\"dataframe\">\n",
       "  <thead>\n",
       "    <tr style=\"text-align: right;\">\n",
       "      <th></th>\n",
       "      <th>publish_date</th>\n",
       "      <th>content</th>\n",
       "      <th>account_category</th>\n",
       "      <th>Clean_tweet</th>\n",
       "      <th>hashtags</th>\n",
       "      <th>Music</th>\n",
       "      <th>Movies</th>\n",
       "      <th>Trump</th>\n",
       "      <th>Hillary</th>\n",
       "      <th>Religion</th>\n",
       "      <th>...</th>\n",
       "      <th>Obama</th>\n",
       "      <th>FakeNews</th>\n",
       "      <th>Gouvernment</th>\n",
       "      <th>Healthcare</th>\n",
       "      <th>Gun</th>\n",
       "      <th>Sport</th>\n",
       "      <th>Scandal</th>\n",
       "      <th>Election</th>\n",
       "      <th>Charlottesville</th>\n",
       "      <th>Economy</th>\n",
       "    </tr>\n",
       "  </thead>\n",
       "  <tbody>\n",
       "    <tr>\n",
       "      <th>0</th>\n",
       "      <td>2017-10-01</td>\n",
       "      <td>\"We have a sitting Democrat US Senator on tria...</td>\n",
       "      <td>RightTroll</td>\n",
       "      <td>[sit, democrat, us, senat, trial, corrupt, bar...</td>\n",
       "      <td>[]</td>\n",
       "      <td>0.0</td>\n",
       "      <td>0.0</td>\n",
       "      <td>0.0</td>\n",
       "      <td>0.0</td>\n",
       "      <td>0.0</td>\n",
       "      <td>...</td>\n",
       "      <td>0.0</td>\n",
       "      <td>0.0</td>\n",
       "      <td>1.0</td>\n",
       "      <td>0.0</td>\n",
       "      <td>0.0</td>\n",
       "      <td>0.0</td>\n",
       "      <td>0.0</td>\n",
       "      <td>1.0</td>\n",
       "      <td>0.0</td>\n",
       "      <td>0.0</td>\n",
       "    </tr>\n",
       "    <tr>\n",
       "      <th>1</th>\n",
       "      <td>2017-10-01</td>\n",
       "      <td>Marshawn Lynch arrives to game in anti-Trump s...</td>\n",
       "      <td>RightTroll</td>\n",
       "      <td>[marshawn, lynch, arriv, game, anti-trump, shi...</td>\n",
       "      <td>[]</td>\n",
       "      <td>0.0</td>\n",
       "      <td>0.0</td>\n",
       "      <td>1.0</td>\n",
       "      <td>0.0</td>\n",
       "      <td>0.0</td>\n",
       "      <td>...</td>\n",
       "      <td>0.0</td>\n",
       "      <td>0.0</td>\n",
       "      <td>0.0</td>\n",
       "      <td>0.0</td>\n",
       "      <td>0.0</td>\n",
       "      <td>1.0</td>\n",
       "      <td>0.0</td>\n",
       "      <td>0.0</td>\n",
       "      <td>0.0</td>\n",
       "      <td>0.0</td>\n",
       "    </tr>\n",
       "    <tr>\n",
       "      <th>2</th>\n",
       "      <td>2017-10-01</td>\n",
       "      <td>Daughter of fallen Navy Sailor delivers powerf...</td>\n",
       "      <td>RightTroll</td>\n",
       "      <td>[daughter, fallen, navi, sailor, deliv, power,...</td>\n",
       "      <td>[#BoycottNFL]</td>\n",
       "      <td>0.0</td>\n",
       "      <td>0.0</td>\n",
       "      <td>0.0</td>\n",
       "      <td>0.0</td>\n",
       "      <td>0.0</td>\n",
       "      <td>...</td>\n",
       "      <td>0.0</td>\n",
       "      <td>0.0</td>\n",
       "      <td>0.0</td>\n",
       "      <td>0.0</td>\n",
       "      <td>0.0</td>\n",
       "      <td>0.0</td>\n",
       "      <td>0.0</td>\n",
       "      <td>0.0</td>\n",
       "      <td>0.0</td>\n",
       "      <td>0.0</td>\n",
       "    </tr>\n",
       "    <tr>\n",
       "      <th>3</th>\n",
       "      <td>2017-10-01</td>\n",
       "      <td>JUST IN: President Trump dedicates Presidents ...</td>\n",
       "      <td>RightTroll</td>\n",
       "      <td>[presid, trump, dedic, presid, cup, golf, tour...</td>\n",
       "      <td>[]</td>\n",
       "      <td>0.0</td>\n",
       "      <td>0.0</td>\n",
       "      <td>1.0</td>\n",
       "      <td>0.0</td>\n",
       "      <td>0.0</td>\n",
       "      <td>...</td>\n",
       "      <td>0.0</td>\n",
       "      <td>0.0</td>\n",
       "      <td>0.0</td>\n",
       "      <td>0.0</td>\n",
       "      <td>0.0</td>\n",
       "      <td>1.0</td>\n",
       "      <td>0.0</td>\n",
       "      <td>0.0</td>\n",
       "      <td>0.0</td>\n",
       "      <td>0.0</td>\n",
       "    </tr>\n",
       "    <tr>\n",
       "      <th>4</th>\n",
       "      <td>2017-10-01</td>\n",
       "      <td>19,000 RESPECTING our National Anthem! #StandF...</td>\n",
       "      <td>RightTroll</td>\n",
       "      <td>[respect, nation, anthem, stand, anthem]</td>\n",
       "      <td>[#StandForOurAnthem]</td>\n",
       "      <td>0.0</td>\n",
       "      <td>0.0</td>\n",
       "      <td>0.0</td>\n",
       "      <td>0.0</td>\n",
       "      <td>0.0</td>\n",
       "      <td>...</td>\n",
       "      <td>0.0</td>\n",
       "      <td>0.0</td>\n",
       "      <td>0.0</td>\n",
       "      <td>0.0</td>\n",
       "      <td>0.0</td>\n",
       "      <td>0.0</td>\n",
       "      <td>0.0</td>\n",
       "      <td>0.0</td>\n",
       "      <td>0.0</td>\n",
       "      <td>0.0</td>\n",
       "    </tr>\n",
       "  </tbody>\n",
       "</table>\n",
       "<p>5 rows × 28 columns</p>\n",
       "</div>"
      ],
      "text/plain": [
       "  publish_date                                            content  \\\n",
       "0   2017-10-01  \"We have a sitting Democrat US Senator on tria...   \n",
       "1   2017-10-01  Marshawn Lynch arrives to game in anti-Trump s...   \n",
       "2   2017-10-01  Daughter of fallen Navy Sailor delivers powerf...   \n",
       "3   2017-10-01  JUST IN: President Trump dedicates Presidents ...   \n",
       "4   2017-10-01  19,000 RESPECTING our National Anthem! #StandF...   \n",
       "\n",
       "  account_category                                        Clean_tweet  \\\n",
       "0       RightTroll  [sit, democrat, us, senat, trial, corrupt, bar...   \n",
       "1       RightTroll  [marshawn, lynch, arriv, game, anti-trump, shi...   \n",
       "2       RightTroll  [daughter, fallen, navi, sailor, deliv, power,...   \n",
       "3       RightTroll  [presid, trump, dedic, presid, cup, golf, tour...   \n",
       "4       RightTroll           [respect, nation, anthem, stand, anthem]   \n",
       "\n",
       "               hashtags  Music  Movies  Trump  Hillary  Religion   ...     \\\n",
       "0                    []    0.0     0.0    0.0      0.0       0.0   ...      \n",
       "1                    []    0.0     0.0    1.0      0.0       0.0   ...      \n",
       "2         [#BoycottNFL]    0.0     0.0    0.0      0.0       0.0   ...      \n",
       "3                    []    0.0     0.0    1.0      0.0       0.0   ...      \n",
       "4  [#StandForOurAnthem]    0.0     0.0    0.0      0.0       0.0   ...      \n",
       "\n",
       "   Obama  FakeNews  Gouvernment  Healthcare  Gun  Sport  Scandal  Election  \\\n",
       "0    0.0       0.0          1.0         0.0  0.0    0.0      0.0       1.0   \n",
       "1    0.0       0.0          0.0         0.0  0.0    1.0      0.0       0.0   \n",
       "2    0.0       0.0          0.0         0.0  0.0    0.0      0.0       0.0   \n",
       "3    0.0       0.0          0.0         0.0  0.0    1.0      0.0       0.0   \n",
       "4    0.0       0.0          0.0         0.0  0.0    0.0      0.0       0.0   \n",
       "\n",
       "   Charlottesville  Economy  \n",
       "0              0.0      0.0  \n",
       "1              0.0      0.0  \n",
       "2              0.0      0.0  \n",
       "3              0.0      0.0  \n",
       "4              0.0      0.0  \n",
       "\n",
       "[5 rows x 28 columns]"
      ]
     },
     "execution_count": 12,
     "metadata": {},
     "output_type": "execute_result"
    }
   ],
   "source": [
    "df.head(5)"
   ]
  },
  {
   "cell_type": "markdown",
   "metadata": {
    "heading_collapsed": true
   },
   "source": [
    "## Plotting - tweet activity"
   ]
  },
  {
   "cell_type": "code",
   "execution_count": 13,
   "metadata": {
    "hidden": true
   },
   "outputs": [
    {
     "data": {
      "text/plain": [
       "'/Users/Jean-BaptistePROST/Documents/EPFL/ADA-Proj-18/Plots/Topic_noEvent.html'"
      ]
     },
     "execution_count": 13,
     "metadata": {},
     "output_type": "execute_result"
    }
   ],
   "source": [
    "topic_plot = figure(plot_width=950, plot_height=600, x_axis_type='datetime', toolbar_location=\"above\")\n",
    "#colorplot=Category20[len(topic_extended)] #form the bokeh palettes\n",
    "colorplot = ['darkolivegreen', 'darkmagenta','aqua', 'aquamarine', 'black', 'blanchedalmond', 'blue', 'blueviolet', 'brown', 'burlywood', 'cadetblue', 'chartreuse', 'chocolate', 'coral', 'cornflowerblue', 'crimson', 'cyan', 'darkblue', 'darkcyan', 'darkgoldenrod', 'darkgray', 'darkgreen', 'darkgrey', 'darkkhaki', 'darkolivegreen']\n",
    "start_date = df.publish_date.min()\n",
    "end_date = df.publish_date.max()\n",
    "\n",
    "\n",
    "for color, topic in enumerate(topic_extended): #iterates over each topic\n",
    "    topic_tmp=topic[0]\n",
    "    df_plot=pd.DataFrame(data=df[df[topic_tmp]==1].publish_date.value_counts().sort_index())\n",
    "    \n",
    "    source = ColumnDataSource(data=df_plot)\n",
    "    topic_plt_tmp=topic_plot.line(x='index', y='publish_date', source=source,\\\n",
    "            line_width=2, alpha=0.8, legend=topic_tmp, color=colorplot[color])\n",
    "    \n",
    "    topic_plt_tmp.visible=False\n",
    "\n",
    "topic_plt_tmp.visible=True\n",
    "\n",
    "topic_plot.legend.location = 'top_left'\n",
    "topic_plot.legend.click_policy='hide'\n",
    "topic_plot.title.text = 'Tweeting activity according topic'\n",
    "\n",
    "hover_tool=tools.HoverTool(\n",
    "    tooltips=[\n",
    "        ('Date', '@index{%b %d, %Y}'),\n",
    "        ('Number of tweets','@publish_date')],\n",
    "\n",
    "    formatters={\n",
    "        'index' : 'datetime', # use 'datetime' formatter for 'date' field\n",
    "        'publish_date' : 'printf',   },   # use 'printf' formatter for 'adj close' field\n",
    "\n",
    "    # display a tooltip whenever the cursor is vertically in line with a glyph\n",
    "    mode='vline',\n",
    "    attachment='above',\n",
    "    show_arrow=True,\n",
    ")\n",
    "\n",
    "topic_plot.tools.append(hover_tool)\n",
    "\n",
    "output_file(plot_files+'Topic_noEvent.html')\n",
    "save(topic_plot)"
   ]
  },
  {
   "cell_type": "markdown",
   "metadata": {
    "hidden": true
   },
   "source": [
    "**The plot can be seen [here](Plots/Topic_noEvent.html)**"
   ]
  },
  {
   "cell_type": "markdown",
   "metadata": {},
   "source": [
    "# Web scrapping"
   ]
  },
  {
   "cell_type": "markdown",
   "metadata": {},
   "source": [
    "We use Wikipedia Portal which lists every event that have happened for each day. The html template is always the same enabling us to efficiently scrap it.\n",
    "\n",
    "\n",
    "\n",
    "We want to detect the event related to the spike of tweets:\n",
    "* For each categry, a threshold is define to localize the date spikes. \n",
    "* Wikipedia Portal is scrapped at the url of the date. The text follows the same pre-process as the tweets words.\n",
    "* A matching of the subsection of the web page and the word of the list is done.\n",
    "* We retrieve the description of the event if it its related to the topic."
   ]
  },
  {
   "cell_type": "code",
   "execution_count": 14,
   "metadata": {},
   "outputs": [],
   "source": [
    "#Getting web page\n",
    "WIKI_PORTAL = \"https://en.wikipedia.org/wiki/Portal:Current_events/\"\n",
    "\n",
    "def event_scrapper(date):\n",
    "    \"\"\"Retrieve the information of the events that happened around a date window\"\"\"\n",
    "    \n",
    "    #take a day before and one day after the date\n",
    "    dates = [date + dt.timedelta(day,0) for day in [-1,0]]\n",
    "    #daily events are stored in df\n",
    "    event_df = pd.DataFrame(columns=['Date', 'Description', 'Category', 'Link'])\n",
    "    \n",
    "    for date in dates:\n",
    "        #strftime gives 0-padded days...\n",
    "        year = date.strftime(\"%Y\")\n",
    "        month = date.strftime(\"%B\")\n",
    "        day = re.sub(\"^[0]\", \"\", date.strftime(\"%d\"))  #removing 0 at beggining of day\n",
    "\n",
    "        #right format for wiki portal and requesting html\n",
    "        url_date = year + \"_\" + month + \"_\" + day\n",
    "        r = requests.get(WIKI_PORTAL + url_date)\n",
    "        \n",
    "        #print('Response status code: {0}\\n'.format(r.status_code))\n",
    "        \n",
    "        page_body = r.text\n",
    "        soup = BeautifulSoup(page_body, 'html.parser')\n",
    "        regex=re.compile(r\"(\\(([^)]+)\\))[,. ]*\", re.IGNORECASE)\n",
    "\n",
    "        #For every category of events (dt), we look for every events from bullet list (li)\n",
    "        if soup.findAll(\"dt\"):\n",
    "            \n",
    "            for category in soup.findAll(\"dt\"):\n",
    "\n",
    "                li = category.findNext(\"li\")\n",
    "                while li:\n",
    "                    #replacing \\n, and removing sources: text. e.g. (CNN). \n",
    "                    #we decided to split text using regex and keeping only text before first source\n",
    "                    no_source = re.sub(regex,'',li.getText().replace('\\n', '. ') )\n",
    "                    new_event = pd.DataFrame({'Date': [date], \\\n",
    "                                              'Description': [no_source],\\\n",
    "                                              'Category': [category.getText()], \\\n",
    "                                              'Link': [li.a]})\n",
    "\n",
    "\n",
    "                    event_df = event_df.append(new_event, ignore_index=True, sort=False)\n",
    "                    li = li.findNextSibling(\"li\")\n",
    "            \n",
    "            #event_df['Stemmed_Content']=event_df.apply(lambda row: tokenize(row['Description']), axis=1)\n",
    "            \n",
    "        \n",
    "        else: #other template of wiki portal \n",
    "            for category in soup.findAll(\"p\"):\n",
    "                category_title=category.findNext().getText()\n",
    "                li = category.findNext(\"li\")\n",
    "                while li:\n",
    "                    no_source = re.sub(regex,'',li.getText().replace('\\n', '. ') )\n",
    "                    new_event = pd.DataFrame({'Date': [date], \\\n",
    "                                              'Description': [no_source],\\\n",
    "                                              'Category': [category_title], \\\n",
    "                                              'Link': [li.a]})\n",
    "\n",
    "\n",
    "                    event_df = event_df.append(new_event, ignore_index=True, sort=False)\n",
    "                    li = li.findNextSibling(\"li\")\n",
    "\n",
    "        \n",
    "    #stemming the content of the events description\n",
    "    event_df['Stemmed_Content']=event_df.apply(lambda row: tokenize(row['Description']), axis=1)\n",
    "    event_df.reset_index(inplace=True)\n",
    "\n",
    "    return event_df\n",
    "\n",
    "\n",
    "def event_detector(df, topic_extended):\n",
    "    \"\"\"Detect the event by web scrapping. Returns the dataframe of events' description\n",
    "    per day, the topic and the recall of the process (number of event that match over\n",
    "    the number of tweet spikes)\"\"\"\n",
    "    print('Srapping ...')\n",
    "    \n",
    "    events_df=pd.DataFrame(columns=['Date', 'Topic', 'Event', 'Stemmed'])\n",
    "    nb_dates=0\n",
    "    nb_detected=0\n",
    "    \n",
    "    for topic in topic_extended:\n",
    "        topic_tmp=topic[0]\n",
    "        print('  _ '+topic_tmp)\n",
    "        \n",
    "        #create dataframe\n",
    "        df_topic=pd.DataFrame(data=df[df[topic_tmp]==1].publish_date.value_counts().sort_index().reset_index())\n",
    "        df_topic.rename(columns={'index':'Date', 'publish_date': 'Count'}, inplace=True)\n",
    "\n",
    "        #get date  where tweet activity is above the thresold\n",
    "        threshold=df_topic.Count.mean() + 2.25*df_topic.Count.std()\n",
    "        dates_thr=df_topic[df_topic.Count >= threshold].index\n",
    "        #less than threshold?\n",
    "        dates=[df_topic.loc[date,'Date'] for date in dates_thr if df_topic.loc[date-1,'Count'] < threshold]\n",
    "        \n",
    "        for date in dates:\n",
    "            nb_dates+=1 #counter for recall score\n",
    "            event=event_scrapper(date)\n",
    "            \n",
    "            \n",
    "            try: \n",
    "                #matching the description and the words of the topic\n",
    "                matching_score=event.Stemmed_Content.apply(lambda words: len(set(words) & set(topic)))\n",
    "                max_match=matching_score.max() \n",
    "                #print(max_match)\n",
    "                \n",
    "                #adapt the threhosld relative the length of the topic list\n",
    "                if (len(topic)>150)  | (topic_tmp=='Trump') | (topic_tmp=='Hillary'): \n",
    "                    if (max_match > 1) : #avoid empty results\n",
    "                        nb_detected+=1 #counter for recall score\n",
    "\n",
    "                        #if two descriptions have the same matching score\n",
    "                       # print(matching_score)#[matching_score==max_match]\n",
    "                        #print('max index=',matching_score[matching_score==max_match].index.tolist())\n",
    "                        for idx_max_match in matching_score[matching_score==max_match].index:\n",
    "\n",
    "                            tmp=pd.DataFrame({'Date': [event.loc[idx_max_match, 'Date']], \\\n",
    "                                              'Topic': [topic_tmp], \\\n",
    "                                              'Event': [event.loc[idx_max_match,'Description']]})\n",
    "                            events_df=events_df.append(tmp, ignore_index=True, sort=False)\n",
    "                    \n",
    "                elif (max_match >0):\n",
    "                    nb_detected+=1 #counter for recall score\n",
    "\n",
    "                    #if two descriptions have the same matching score\n",
    "                   # print(matching_score)#[matching_score==max_match]\n",
    "                    #print('max index=',matching_score[matching_score==max_match].index.tolist())\n",
    "                    for idx_max_match in matching_score[matching_score==max_match].index:\n",
    "\n",
    "                        tmp=pd.DataFrame({'Date': [event.loc[idx_max_match, 'Date']], \\\n",
    "                                          'Topic': [topic_tmp], \\\n",
    "                                          'Event': [event.loc[idx_max_match,'Description']]})\n",
    "                        events_df=events_df.append(tmp, ignore_index=True, sort=False)\n",
    "            \n",
    "            except AttributeError: #track of potential error\n",
    "                print(date)\n",
    "                continue\n",
    "            \n",
    "            except TypeError:\n",
    "                print('No content has been found during scrap')\n",
    "    \n",
    "    \n",
    "    events_df.drop_duplicates(inplace=True)\n",
    "    \n",
    "    return events_df, nb_detected/nb_dates, \n",
    "    \n",
    "    "
   ]
  },
  {
   "cell_type": "code",
   "execution_count": 15,
   "metadata": {},
   "outputs": [
    {
     "name": "stdout",
     "output_type": "stream",
     "text": [
      "Srapping ...\n",
      "  _ Music\n",
      "  _ Movies\n",
      "  _ Trump\n",
      "  _ Hillary\n",
      "  _ Religion\n",
      "  _ Conservative\n",
      "  _ Fear\n",
      "  _ BlackLivesMatter\n",
      "  _ Voter\n",
      "  _ MeToo\n",
      "  _ Terrorism\n",
      "  _ Hacking\n",
      "  _ Sanders\n",
      "  _ Obama\n",
      "  _ FakeNews\n",
      "  _ Gouvernment\n",
      "  _ Healthcare\n",
      "  _ Gun\n",
      "  _ Sport\n",
      "  _ Scandal\n",
      "  _ Election\n",
      "  _ Charlottesville\n",
      "  _ Economy\n"
     ]
    }
   ],
   "source": [
    "events_df, recall= event_detector(df, topic_extended)"
   ]
  },
  {
   "cell_type": "markdown",
   "metadata": {},
   "source": [
    "# Correlation"
   ]
  },
  {
   "cell_type": "code",
   "execution_count": 16,
   "metadata": {},
   "outputs": [
    {
     "name": "stdout",
     "output_type": "stream",
     "text": [
      "The event detector matched 44.34% (134) of the tweet peak\n"
     ]
    }
   ],
   "source": [
    "print('The event detector matched {:0.2f}% ({}) of the tweet peak'.format(100*recall, events_df.shape[0]))"
   ]
  },
  {
   "cell_type": "markdown",
   "metadata": {},
   "source": [
    "### Plotting"
   ]
  },
  {
   "cell_type": "code",
   "execution_count": 17,
   "metadata": {},
   "outputs": [],
   "source": [
    "plot_threshold=False #explicitly plot the threshold detection\n",
    "\n",
    "start_date = df.publish_date.min()\n",
    "end_date = df.publish_date.max()\n",
    "\n",
    "topic_plot = figure(plot_width=1000, plot_height=600, x_axis_type='datetime',\\\n",
    "                    y_range=[-10,4800], toolbar_location=None)\n",
    "\n",
    "#colorplot=Category20[len(topic_extended)] #form the bokeh palettes\n",
    "colorplot = ['darkolivegreen', 'darkmagenta','tomato', 'dodgerblue', 'black', 'blanchedalmond', 'blue', 'blueviolet', 'brown', 'burlywood', 'cadetblue', 'chartreuse', 'chocolate', 'coral', 'cornflowerblue', 'crimson', 'cyan', 'darkblue', 'darkcyan', 'darkgoldenrod', 'darkgray', 'darkgreen', 'darkgrey', 'darkkhaki', 'darkolivegreen']\n",
    "\n",
    "\n",
    "ymax=[]\n",
    "legend_tmp=[]\n",
    "\n",
    "\n",
    "for color, topic in enumerate(topic_extended): #iterates over each topic\n",
    "    topic_tmp=topic[0]\n",
    "\n",
    "    # ---- Tweets ---- #\n",
    "    to_plot = df[df[topic_tmp]==1].publish_date.value_counts().sort_index()\n",
    "    df_plot=pd.DataFrame(data=to_plot)\n",
    "    ymax.append(df_plot.publish_date.max())\n",
    "    \n",
    "    source = ColumnDataSource(data=df_plot)\n",
    "    topic_plt_tmp=topic_plot.line(x='index', y='publish_date', source=source,\\\n",
    "            line_width=2, alpha=0.9, color=colorplot[color])\n",
    "\n",
    "    \n",
    "    hover_tool=tools.HoverTool(\n",
    "        tooltips=[\n",
    "            ('Date', '@index{%b %d, %Y}'),\n",
    "            ('Number of tweets','@publish_date')],\n",
    "        formatters={\n",
    "            'index' : 'datetime', \n",
    "            'publish_date' : 'printf',},   \n",
    "        mode='vline',\n",
    "        attachment='above',\n",
    "        renderers=[topic_plt_tmp])\n",
    "\n",
    "    topic_plot.tools.append(hover_tool)\n",
    "    topic_plt_tmp.visible=False\n",
    "\n",
    "    # ---- Events ---- #\n",
    "    event_plot=events_df[events_df['Topic']==topic_tmp].copy()\n",
    "    event_plot['Y']=4500\n",
    "    source_event=ColumnDataSource(data=event_plot)\n",
    "    event_plot_tmp=topic_plot.scatter(x='Date', y='Y', source=source_event,\\\n",
    "                                       fill_color=colorplot[color], color=None, size=10, alpha=0.5)\n",
    "    \n",
    "    hover_event=tools.HoverTool(\n",
    "        tooltips=\"\"\"<div style=\"max-width: 700px; font-family: \"HelveticaNeue-Light\",\"Helvetica Neue Light\",\"Helvetica Neue\",Helvetica,Arial,\"Lucida Grande\",sans-serif\">\n",
    "<div><span style=\"color: #26aae1;\">Event</span>: @Event</div>\n",
    "<div><span style=\"color: #26aae1;\">Date</span>: @Date{%b %d, %Y}</div>\n",
    "</div>\"\"\",\n",
    "        formatters={'Event' : 'printf', 'Date' : 'datetime',  },  \n",
    "        mode=\"vline\",\n",
    "        attachment='below',\n",
    "        show_arrow=False,\n",
    "        renderers=[event_plot_tmp])\n",
    "\n",
    "    topic_plot.tools.append(hover_event)\n",
    "    event_plot_tmp.visible=False\n",
    "    \n",
    "        \n",
    "    if plot_threshold:\n",
    "        threshold=df_plot.publish_date.mean() + 2* df_plot.publish_date.std()\n",
    "        threshold_plt_tmp=topic_plot.line(x=[start_date,end_date],\\\n",
    "                                      y=[threshold,threshold],\\\n",
    "                                      color=colorplot[color], alpha=0.5, )\n",
    "        threshold_plt_tmp.visible=False\n",
    "    \n",
    "        legend_tmp.append((topic_tmp,[threshold_plt_tmp, topic_plt_tmp,  event_plot_tmp]))\n",
    "    \n",
    "        #displays only the first line at the begining\n",
    "        if color==0:\n",
    "            threshold_plt_tmp.visible=True\n",
    "            event_plot_tmp.visible=True\n",
    "            topic_plt_tmp.visible=True\n",
    "            \n",
    "    else:\n",
    "        \n",
    "        legend_tmp.append((topic_tmp,[topic_plt_tmp,  event_plot_tmp]))\n",
    "    \n",
    "        #displays only the first line at the begining\n",
    "        if color==0:\n",
    "            event_plot_tmp.visible=True\n",
    "            topic_plt_tmp.visible=True\n",
    "            \n",
    "\n",
    "\n",
    "legend = Legend(items=legend_tmp,\\\n",
    "               click_policy='hide')\n",
    "topic_plot.legend.location = 'left'\n",
    "topic_plot.legend.orientation = \"vertical\"\n",
    "topic_plot.legend.click_policy='hide'\n",
    "topic_plot.legend.label_text_font_size='8pt'\n",
    "\n",
    "topic_plot.title.text = 'Tweeting Activity According to the Topics'\n",
    "topic_plot.yaxis.bounds=(0,max(ymax))\n",
    "topic_plot.yaxis.axis_label='Number of tweets'\n",
    "\n",
    "topic_plot.add_layout(legend, 'left')"
   ]
  },
  {
   "cell_type": "code",
   "execution_count": 18,
   "metadata": {},
   "outputs": [
    {
     "data": {
      "text/plain": [
       "'/Users/Jean-BaptistePROST/Documents/EPFL/ADA-Proj-18/Plots/Topic_Events.html'"
      ]
     },
     "execution_count": 18,
     "metadata": {},
     "output_type": "execute_result"
    }
   ],
   "source": [
    "output_file(plot_files+'Topic_Events.html')\n",
    "save(topic_plot)"
   ]
  },
  {
   "cell_type": "markdown",
   "metadata": {},
   "source": [
    "The plot can be seen [here](Plots/Topic_Events.html)"
   ]
  },
  {
   "cell_type": "markdown",
   "metadata": {},
   "source": [
    "# Tweets' distribution statisitcs"
   ]
  },
  {
   "cell_type": "code",
   "execution_count": 19,
   "metadata": {},
   "outputs": [],
   "source": [
    "df['Categorical'] =0\n",
    "df['Categorical'] =np.sum(df[df.columns[5:]], axis=1)"
   ]
  },
  {
   "cell_type": "code",
   "execution_count": 20,
   "metadata": {},
   "outputs": [
    {
     "name": "stdout",
     "output_type": "stream",
     "text": [
      "Dateframe saved -->\n"
     ]
    }
   ],
   "source": [
    "def save_topic_df(df, filename=pickle_files +'topic_df.plk'):\n",
    "   \n",
    "    with open(filename, 'wb') as df_top:\n",
    "        pickle.dump(df, df_top, pickle.HIGHEST_PROTOCOL)\n",
    "    print('Dateframe saved -->')\n",
    "        \n",
    "save_topic_df(df)"
   ]
  },
  {
   "cell_type": "code",
   "execution_count": 21,
   "metadata": {},
   "outputs": [],
   "source": [
    "def get_category_distribution(df, topic_list):\n",
    "    '''\n",
    "    Returns the percentage of tweets by topic\n",
    "    '''\n",
    "    results = pd.DataFrame()\n",
    "    tot = len(df)\n",
    "    tot_r = len(df[df.account_category == 'RightTroll'])\n",
    "    tot_l = len(df[df.account_category == 'LeftTroll'])\n",
    "    \n",
    "    for topic in topic_list:\n",
    "        topic_tmp=topic[0]\n",
    "        results.loc[topic_tmp, 'Percent'] = np.round(100*(df[topic_tmp].sum()/tot),2)\n",
    "        results.loc[topic_tmp, 'Percent_Right'] = np.round(100*(df[df.account_category == 'RightTroll'][topic_tmp].sum()/tot_r),2)\n",
    "        results.loc[topic_tmp, 'Percent_Left'] = np.round(100*(df[df.account_category == 'LeftTroll'][topic_tmp].sum()/tot_l),2)\n",
    "    \n",
    "    return results\n",
    "\n",
    "def uncategorized_vocab(tweets, min_occurence=30):\n",
    "    \"\"\"Gathers all the words that are more frequent than min_occurence\"\"\"\n",
    "    voc_raw=[]\n",
    "    for words in tweets:\n",
    "        if words: #if not None\n",
    "            voc_raw+=words # add to voca\n",
    "    count_=Counter(voc_raw) #count frequency\n",
    "    uncat_voc = pd.DataFrame.from_dict(count_, orient='index').reset_index()\n",
    "    uncat_voc = uncat_voc.rename(columns={'index':'word', 0:'count'})\n",
    "    uncat_relevant=pd.DataFrame()\n",
    "    \n",
    "    for i in range(len(uncat_voc)):\n",
    "        if (uncat_voc.iloc[i]['word'] not in stop_w) & (len(uncat_voc.iloc[i]['word']) > 4):\n",
    "            uncat_relevant.loc[i, 'Word'] = uncat_voc.iloc[i]['word']\n",
    "            uncat_relevant.loc[i, 'Count'] = uncat_voc.iloc[i]['count']\n",
    "\n",
    "    \n",
    "    return uncat_relevant\n",
    "\n",
    "def get_uncat_voc(tweets, min_count=30):\n",
    "    \"\"\"Recovers the vocabulary from pickles\"\"\"\n",
    "    filename=pickle_files+'uncat_vocabulary_'+str(min_count)+'.pkl'\n",
    "    \n",
    "    try:\n",
    "        with open(filename, 'rb') as uncat_voc:\n",
    "            uncat_vocabulary=pickle.load(uncat_voc) \n",
    "        print(\"Vocab loaded <---\")\n",
    "            \n",
    "    except: \n",
    "        uncat_vocabulary= uncategorized_vocab(tweets)\n",
    "        \n",
    "        with open(filename, 'wb') as uncat_voc:\n",
    "            pickle.dump(uncat_vocabulary, uncat_voc, pickle.HIGHEST_PROTOCOL) #saving the voc\n",
    "            \n",
    "    return uncat_vocabulary"
   ]
  },
  {
   "cell_type": "code",
   "execution_count": 22,
   "metadata": {},
   "outputs": [],
   "source": [
    "topic_proportion = get_category_distribution(df, topic_extended)"
   ]
  },
  {
   "cell_type": "code",
   "execution_count": 23,
   "metadata": {},
   "outputs": [
    {
     "name": "stdout",
     "output_type": "stream",
     "text": [
      "Categorized tweets represent: 58.53% of all the tweets. However, 'RighTroll' tweets are categorized in 62.69%, against 51.44 for 'LeftTroll'\n",
      "\n",
      "22.65% of all the tweets appear in more than one category.\n",
      "\n",
      "0.50% of all the tweets are 'empty'.\n",
      "\n",
      "Hashtags are present in: 31.65% of all the tweets, 'RightTrolls' rely more on hashtags, including them in : 34.45% of their tweets, compared with 26.88% for 'LeftTrolls'\n"
     ]
    }
   ],
   "source": [
    "cat_tweet = (100*len(df[df.Categorical > 0])/len(df))\n",
    "r_cat_tweet = (100*len(df[(df.Categorical > 0) & (df.account_category == 'RightTroll')]) / len(df[df.account_category == 'RightTroll']))\n",
    "l_cat_tweet = 100*len(df[(df.Categorical > 0) & (df.account_category == 'LeftTroll')]) / len(df[df.account_category == 'LeftTroll'])\n",
    "print(\"Categorized tweets represent: {:0.2f}% of all the tweets. However, 'RighTroll' tweets are categorized in {:0.2f}%, against {:0.2f} for 'LeftTroll'\".format(cat_tweet, r_cat_tweet, l_cat_tweet))\n",
    "\n",
    "more_cat = (100*len(df[df.Categorical > 1])/len(df))\n",
    "print('\\n{:0.2f}% of all the tweets appear in more than one category.'.format(more_cat))\n",
    "\n",
    "empty_tweets = (100*len(df[df.Clean_tweet.isnull()])/len(df))\n",
    "print(\"\\n{:0.2f}% of all the tweets are 'empty'.\".format(empty_tweets))\n",
    "\n",
    "df['hash_cat'] = df.hashtags.apply(lambda x: 1 if len(x) > 0 else 0)\n",
    "hash_per = (100*df.hash_cat.sum()/len(df))\n",
    "hash_per_r = (100*df[df.account_category == 'RightTroll'].hash_cat.sum()/len(df[df.account_category=='RightTroll']))\n",
    "hash_per_l = (100*df[df.account_category == 'LeftTroll'].hash_cat.sum()/len(df[df.account_category=='LeftTroll']))\n",
    "print(\"\\nHashtags are present in: {:0.2f}% of all the tweets, 'RightTrolls' rely more on hashtags, including them in : {:0.2f}% of their tweets, compared with {:0.2f}% for 'LeftTrolls'\"\n",
    "      .format(hash_per, hash_per_r, hash_per_l))"
   ]
  },
  {
   "cell_type": "code",
   "execution_count": 24,
   "metadata": {},
   "outputs": [],
   "source": [
    "topic_proportion.to_csv(csv_files+'TopicTroll.csv')"
   ]
  },
  {
   "cell_type": "code",
   "execution_count": 25,
   "metadata": {},
   "outputs": [
    {
     "data": {
      "text/html": [
       "<div>\n",
       "<style scoped>\n",
       "    .dataframe tbody tr th:only-of-type {\n",
       "        vertical-align: middle;\n",
       "    }\n",
       "\n",
       "    .dataframe tbody tr th {\n",
       "        vertical-align: top;\n",
       "    }\n",
       "\n",
       "    .dataframe thead th {\n",
       "        text-align: right;\n",
       "    }\n",
       "</style>\n",
       "<table border=\"1\" class=\"dataframe\">\n",
       "  <thead>\n",
       "    <tr style=\"text-align: right;\">\n",
       "      <th></th>\n",
       "      <th>Percent</th>\n",
       "      <th>Percent_Right</th>\n",
       "      <th>Percent_Left</th>\n",
       "    </tr>\n",
       "  </thead>\n",
       "  <tbody>\n",
       "    <tr>\n",
       "      <th>Music</th>\n",
       "      <td>4.69</td>\n",
       "      <td>1.33</td>\n",
       "      <td>10.43</td>\n",
       "    </tr>\n",
       "    <tr>\n",
       "      <th>Movies</th>\n",
       "      <td>2.16</td>\n",
       "      <td>1.44</td>\n",
       "      <td>3.38</td>\n",
       "    </tr>\n",
       "    <tr>\n",
       "      <th>Trump</th>\n",
       "      <td>15.77</td>\n",
       "      <td>20.74</td>\n",
       "      <td>7.33</td>\n",
       "    </tr>\n",
       "    <tr>\n",
       "      <th>Hillary</th>\n",
       "      <td>5.02</td>\n",
       "      <td>7.21</td>\n",
       "      <td>1.29</td>\n",
       "    </tr>\n",
       "    <tr>\n",
       "      <th>Religion</th>\n",
       "      <td>2.93</td>\n",
       "      <td>3.99</td>\n",
       "      <td>1.13</td>\n",
       "    </tr>\n",
       "    <tr>\n",
       "      <th>Conservative</th>\n",
       "      <td>1.69</td>\n",
       "      <td>2.45</td>\n",
       "      <td>0.39</td>\n",
       "    </tr>\n",
       "    <tr>\n",
       "      <th>Fear</th>\n",
       "      <td>3.42</td>\n",
       "      <td>4.06</td>\n",
       "      <td>2.32</td>\n",
       "    </tr>\n",
       "    <tr>\n",
       "      <th>BlackLivesMatter</th>\n",
       "      <td>10.64</td>\n",
       "      <td>6.58</td>\n",
       "      <td>17.56</td>\n",
       "    </tr>\n",
       "    <tr>\n",
       "      <th>Voter</th>\n",
       "      <td>2.61</td>\n",
       "      <td>3.13</td>\n",
       "      <td>1.72</td>\n",
       "    </tr>\n",
       "    <tr>\n",
       "      <th>MeToo</th>\n",
       "      <td>2.70</td>\n",
       "      <td>2.55</td>\n",
       "      <td>2.94</td>\n",
       "    </tr>\n",
       "    <tr>\n",
       "      <th>Terrorism</th>\n",
       "      <td>5.06</td>\n",
       "      <td>5.68</td>\n",
       "      <td>4.00</td>\n",
       "    </tr>\n",
       "    <tr>\n",
       "      <th>Hacking</th>\n",
       "      <td>1.81</td>\n",
       "      <td>2.26</td>\n",
       "      <td>1.03</td>\n",
       "    </tr>\n",
       "    <tr>\n",
       "      <th>Sanders</th>\n",
       "      <td>0.71</td>\n",
       "      <td>0.78</td>\n",
       "      <td>0.60</td>\n",
       "    </tr>\n",
       "    <tr>\n",
       "      <th>Obama</th>\n",
       "      <td>3.72</td>\n",
       "      <td>5.18</td>\n",
       "      <td>1.24</td>\n",
       "    </tr>\n",
       "    <tr>\n",
       "      <th>FakeNews</th>\n",
       "      <td>2.68</td>\n",
       "      <td>3.75</td>\n",
       "      <td>0.86</td>\n",
       "    </tr>\n",
       "    <tr>\n",
       "      <th>Gouvernment</th>\n",
       "      <td>1.35</td>\n",
       "      <td>1.77</td>\n",
       "      <td>0.64</td>\n",
       "    </tr>\n",
       "    <tr>\n",
       "      <th>Healthcare</th>\n",
       "      <td>1.12</td>\n",
       "      <td>1.32</td>\n",
       "      <td>0.80</td>\n",
       "    </tr>\n",
       "    <tr>\n",
       "      <th>Gun</th>\n",
       "      <td>1.63</td>\n",
       "      <td>2.10</td>\n",
       "      <td>0.85</td>\n",
       "    </tr>\n",
       "    <tr>\n",
       "      <th>Sport</th>\n",
       "      <td>1.88</td>\n",
       "      <td>1.64</td>\n",
       "      <td>2.28</td>\n",
       "    </tr>\n",
       "    <tr>\n",
       "      <th>Scandal</th>\n",
       "      <td>1.57</td>\n",
       "      <td>1.80</td>\n",
       "      <td>1.17</td>\n",
       "    </tr>\n",
       "    <tr>\n",
       "      <th>Election</th>\n",
       "      <td>12.16</td>\n",
       "      <td>15.42</td>\n",
       "      <td>6.61</td>\n",
       "    </tr>\n",
       "    <tr>\n",
       "      <th>Charlottesville</th>\n",
       "      <td>2.49</td>\n",
       "      <td>3.22</td>\n",
       "      <td>1.24</td>\n",
       "    </tr>\n",
       "    <tr>\n",
       "      <th>Economy</th>\n",
       "      <td>1.79</td>\n",
       "      <td>2.04</td>\n",
       "      <td>1.37</td>\n",
       "    </tr>\n",
       "  </tbody>\n",
       "</table>\n",
       "</div>"
      ],
      "text/plain": [
       "                  Percent  Percent_Right  Percent_Left\n",
       "Music                4.69           1.33         10.43\n",
       "Movies               2.16           1.44          3.38\n",
       "Trump               15.77          20.74          7.33\n",
       "Hillary              5.02           7.21          1.29\n",
       "Religion             2.93           3.99          1.13\n",
       "Conservative         1.69           2.45          0.39\n",
       "Fear                 3.42           4.06          2.32\n",
       "BlackLivesMatter    10.64           6.58         17.56\n",
       "Voter                2.61           3.13          1.72\n",
       "MeToo                2.70           2.55          2.94\n",
       "Terrorism            5.06           5.68          4.00\n",
       "Hacking              1.81           2.26          1.03\n",
       "Sanders              0.71           0.78          0.60\n",
       "Obama                3.72           5.18          1.24\n",
       "FakeNews             2.68           3.75          0.86\n",
       "Gouvernment          1.35           1.77          0.64\n",
       "Healthcare           1.12           1.32          0.80\n",
       "Gun                  1.63           2.10          0.85\n",
       "Sport                1.88           1.64          2.28\n",
       "Scandal              1.57           1.80          1.17\n",
       "Election            12.16          15.42          6.61\n",
       "Charlottesville      2.49           3.22          1.24\n",
       "Economy              1.79           2.04          1.37"
      ]
     },
     "execution_count": 25,
     "metadata": {},
     "output_type": "execute_result"
    }
   ],
   "source": [
    "topic_proportion"
   ]
  },
  {
   "cell_type": "code",
   "execution_count": 26,
   "metadata": {},
   "outputs": [
    {
     "data": {
      "image/png": "[encoded data removed]",
      "text/plain": [
       "<Figure size 1296x576 with 1 Axes>"
      ]
     },
     "metadata": {
      "needs_background": "light"
     },
     "output_type": "display_data"
    }
   ],
   "source": [
    "#plotting\n",
    "ax=topic_proportion[['Percent']].plot.bar(stacked=True, figsize=(18,8))\n",
    "ax.set(ylabel='Percent of total tweet per topic')\n",
    "plt.show()"
   ]
  },
  {
   "cell_type": "code",
   "execution_count": 27,
   "metadata": {},
   "outputs": [
    {
     "data": {
      "image/png": "[encoded data removed]",
      "text/plain": [
       "<Figure size 1296x576 with 1 Axes>"
      ]
     },
     "metadata": {
      "needs_background": "light"
     },
     "output_type": "display_data"
    }
   ],
   "source": [
    "ax=topic_proportion[['Percent_Right','Percent_Left']].plot.bar(stacked=True, \\\n",
    "                                                               figsize=(18,8), color=['tomato', 'dodgerblue'])\n",
    "ax.set(ylabel='Percent Left and Right trolls tweets per topic')\n",
    "plt.show()"
   ]
  },
  {
   "cell_type": "code",
   "execution_count": 28,
   "metadata": {},
   "outputs": [
    {
     "name": "stdout",
     "output_type": "stream",
     "text": [
      "Vocab loaded <---\n"
     ]
    }
   ],
   "source": [
    "uncat_vocabulary=get_uncat_voc(df[df.Categorical == 0].Clean_tweet, min_count=30)"
   ]
  },
  {
   "cell_type": "code",
   "execution_count": 29,
   "metadata": {},
   "outputs": [
    {
     "data": {
      "text/html": [
       "<div>\n",
       "<style scoped>\n",
       "    .dataframe tbody tr th:only-of-type {\n",
       "        vertical-align: middle;\n",
       "    }\n",
       "\n",
       "    .dataframe tbody tr th {\n",
       "        vertical-align: top;\n",
       "    }\n",
       "\n",
       "    .dataframe thead th {\n",
       "        text-align: right;\n",
       "    }\n",
       "</style>\n",
       "<table border=\"1\" class=\"dataframe\">\n",
       "  <thead>\n",
       "    <tr style=\"text-align: right;\">\n",
       "      <th></th>\n",
       "      <th>Word</th>\n",
       "      <th>Count</th>\n",
       "    </tr>\n",
       "  </thead>\n",
       "  <tbody>\n",
       "    <tr>\n",
       "      <th>180</th>\n",
       "      <td>peopl</td>\n",
       "      <td>15886.0</td>\n",
       "    </tr>\n",
       "    <tr>\n",
       "      <th>269</th>\n",
       "      <td>break</td>\n",
       "      <td>12559.0</td>\n",
       "    </tr>\n",
       "    <tr>\n",
       "      <th>302</th>\n",
       "      <td>video</td>\n",
       "      <td>9396.0</td>\n",
       "    </tr>\n",
       "    <tr>\n",
       "      <th>153</th>\n",
       "      <td>right</td>\n",
       "      <td>9312.0</td>\n",
       "    </tr>\n",
       "    <tr>\n",
       "      <th>498</th>\n",
       "      <td>white</td>\n",
       "      <td>8515.0</td>\n",
       "    </tr>\n",
       "    <tr>\n",
       "      <th>484</th>\n",
       "      <td>think</td>\n",
       "      <td>8176.0</td>\n",
       "    </tr>\n",
       "    <tr>\n",
       "      <th>350</th>\n",
       "      <td>thank</td>\n",
       "      <td>7988.0</td>\n",
       "    </tr>\n",
       "    <tr>\n",
       "      <th>258</th>\n",
       "      <td>american</td>\n",
       "      <td>7460.0</td>\n",
       "    </tr>\n",
       "    <tr>\n",
       "      <th>36</th>\n",
       "      <td>thing</td>\n",
       "      <td>7142.0</td>\n",
       "    </tr>\n",
       "    <tr>\n",
       "      <th>231</th>\n",
       "      <td>never</td>\n",
       "      <td>6991.0</td>\n",
       "    </tr>\n",
       "  </tbody>\n",
       "</table>\n",
       "</div>"
      ],
      "text/plain": [
       "         Word    Count\n",
       "180     peopl  15886.0\n",
       "269     break  12559.0\n",
       "302     video   9396.0\n",
       "153     right   9312.0\n",
       "498     white   8515.0\n",
       "484     think   8176.0\n",
       "350     thank   7988.0\n",
       "258  american   7460.0\n",
       "36      thing   7142.0\n",
       "231     never   6991.0"
      ]
     },
     "execution_count": 29,
     "metadata": {},
     "output_type": "execute_result"
    }
   ],
   "source": [
    "#uncategorized words\n",
    "uncat_vocabulary.sort_values(by='Count', ascending=False).head(10)"
   ]
  },
  {
   "cell_type": "code",
   "execution_count": 32,
   "metadata": {},
   "outputs": [
    {
     "name": "stdout",
     "output_type": "stream",
     "text": [
      "('research', 0.63735032081604)\n",
      "('softwar', 0.6148844957351685)\n",
      "('document', 0.6108909845352173)\n",
      "('comput', 0.6072940826416016)\n",
      "('carbon', 0.5636813640594482)\n",
      "('unauthor', 0.5602040886878967)\n",
      "('hacker', 0.5597147345542908)\n",
      "('server', 0.5593878030776978)\n",
      "('databas', 0.5549269914627075)\n",
      "('inform', 0.5510832071304321)\n"
     ]
    }
   ],
   "source": [
    "#how the list is extended: finds similar words\n",
    "word='data'\n",
    "try:\n",
    "    print('\\n'.join([str(w) for w in model.wv.most_similar(stemmer.stem(word), topn=10)]))\n",
    "except KeyError:\n",
    "    print('Not in vocabulary or excluded during pre-processing.')"
   ]
  },
  {
   "cell_type": "markdown",
   "metadata": {},
   "source": [
    "**The extended list is here.** Note that the words are stemmed. For instance, the sufixes *'ing', 's', 'e'* have been removed."
   ]
  },
  {
   "cell_type": "code",
   "execution_count": 31,
   "metadata": {
    "scrolled": false
   },
   "outputs": [
    {
     "name": "stdout",
     "output_type": "stream",
     "text": [
      "#-Topic-# : ['Music', 'music', 'hip-hop', 'song', 'music', 'jcole', 'tidalhifi', 'djkhale', 'quavostuntin', 'migo', 'franki', 'nickiminaj', 'rapsodi', 'jcolenc', 'drake', 'desiign', 'raekwon', 'solang', 'trvisxx', 'daveeast', 'liltunechi', 'lilyachti', 'bigboi', 'remix', 'currensyspitta', 'trippi', 'liluzivert', 'youngthug', 'kweli', 'pusha', 'beatswithhook', 'weeknd', 'pushat', 'jeezi', 'starboy', 'lyric', 'ep', 'eyez', 'chancetherapp', 'frenchmontana', 'kendricklamar', 'collab', 'album', 'unsign', 'hip-hop', 'rampb', 'dancehal', 'self-taught', 'tidalhifi', 'storytel', 'rb', 'showcas', 'tymon', 'songwrit', 'regga', 'spotifi', 'sharkkteethsolo', 'realsharkkteeth', 'jazz', 'grime', 'mogul', 'artist', 'compos', 'duo', 'musician', 'dagr8fm', 'djshinnergmailcom', 'tiller', 'mikewillmadeit', 'prod', 'beatz', 'bryson', 'np', 'listen2', 'intro', 'jhene', 'djshinner', 'jeremih', 'djsyonkream', 'loaf', 'dawg', 'ft', 'boosi', 'powertalkwog', 'uzi', 'vert', 'power1044fmcom', 'mikeydollaz', 'bigsean', 'youngthug', 'jeezi', 'durk', 'flav', 'trina', 'rae', 'nowplay', 'datpiff', 'click', 'audiomack', 'buynow', 'limitedtim', 'musicpromo', 'recordd', 'bandcamp', 'getabuzz', 'widget', 'top8', 'promo', 'wewerkin', 'soundcloud', 'hiphop', 'checkitout', 'rap', 'jermainedupri', 'dancehal', 'ricorecklezz', 'soca', 'nervedjsmixtap', 'swizz', 'n1', 'youngthug', 'gotchu', 'rappersiq', 'makebeat', 'disc', 'hiphopgod', 'pandora', 'instrument', 'winnin', 'mixshow', 'rapsodi', 'webreaktrax', 'mrchuckd', 'mixcloud', 'groov', 'djquestgh', 'hhchiphop', 'quik', 'ltltlt', 'tidalhifi', 'dubstep', 'liluzivert', 'python', 'rnb', 'dancehal', 'tidalhifi', 'rnb', 'musician', 'regga', 'duo', 'showcas', 'rb', 'djhivolum', 'rampb', 'storytel', 'jazz', 'disc', 'okayplay', 'visual', 'phenomradio', 'sharkkteethsolo', 'spotifi', 'chancetherapp', 'hiphopgod', 'artwork', 'tidal', 'donaldglov', 'music', 'acoust', 'unsign', 'phenom', 'eyez', 'tymon', 'soni', 'hip-hop', 'eminem', 'delux', 'youngthug', 'sade', 'trvisxx', 'tidalhifi', 'asvpxrocki', 'djkhale', 'frenchmontana', 'mikewillmadeit', 'tydollasign', 'realremyma', 'raekwon', 'liltunechi', 'beatz', 'daveeast', 'liluzivert', 'djsyonkream', 'jermainedupri', 'atcq', 'torylanez', 'pandoraradio', 'bumpin', 'winan', 'outkast', 'dawg', 'quavostuntin', 'trina', 'dmx', 'donaldglov', 'wizkhalifa', 'na', 'mashup', 'hiphopgoldenera', 'hiphopmus', 'grafitti', 'oldschool', 'hiphophead', 'basel2015', 'twitart', 'fineart', 'dualiti', 'baphomet', 'basquiat', 'cinemat', 'psychedel', 'crit', 'haz', 'infin', 'ralofamgoon', 'beaut', 'smokedza', 'isabel', 'saba', 'deja', 'jeffstonesmus', 'joeybadass', 'voyag', 'oasi', 'dishwash', 'trippi', 'flirtad', 'horsemen', 'mixshow', 'djkennistarr', 'djquestgh', 'skroogmkduk', 'djtonyhard', 'youngthug', 'og', 'deejayalexm', 'topstarhiphopra', 'jermainedupri', 'mixtap', 'officialcoredj', 'bvhk', 'nervedj', 'real923la', 'hiphopgod', 'top20', 'ricorecklezz', 'bigheff', 'bumpin', 'k100radio', 'schoolboyq', 'iamtonyn', 'bizdatroof', 'vybe', 'heymanhustl', 'yogottikom', 'webreaktrax', 'djkingassassin', 'mixcloud', 'dj', 'durk', 'yachti', 'bibbi', 'boosi', 'birdman', 'duval', 'vert', 'wayn', 'dogg', 'tyga', 'wiz', 'khalifa', 'hotnewhiphop', 'boosi', 'nicki', 'jovi', 'yg', 'badazz', 'keke', 'rmusic', 'youngthug', 'dmx', 'desiign', 'killa', 'gangsta', 'runjewel', 'iamakademik', 'snoop', 'mixaffili', 'libamericaorg', 'lovebscott', 'conservavideo', 'getvideoview', 'redrightvideo', 'barracudamama', 'epochtech', 'clarionproject', 'satiratribun', 'zkblast', 'dailysurg', 'dcclotheslin', 'pjmediacom', 'themuslimissu', 'sharethi', 'getdistribut', 'amlookout', 'nuzzel', 'youngcalifornia', 'streiffredst', 'theeagleiris', 'conservativebyt', 'ifyou0nlynew', 'shadowandact', 'thepolitistick', 'bostonherald', 'shareahol', 'libertyunyieldi', 'realjtp', 'youtub', 'rihanna', 'jeezi', 'tyga', 'remi', 'nickiminaj', 'nicki', 'kehlani', 'jayz', 'collab', 'migo', 'birdman', 'dawg', 'realremyma', 'frenchmontana', 'og', 'ludacri', 'desiign', 'remix', 'meek', 'fabol', 'funkflex', 'pusha', 'beatz', 'youngthug', 'liltunechi', 'rickyrozay', 'tidalhifi', 'jcole', 'hotnewhiphop', 'iamakademik', 'drake']\n",
      "-----\n",
      "#-Topic-# : ['Movies', 'movi', 'film', 'netflix', 'trailer', 'movi', 'televis', 'tv', 'actress', 'comedian', 'celeb', 'actor', 'trailer', 'hbo', 'ava', 'duvernay', 'podern', 'documentari', 'podernfamili', 'movi', 'bgn', 'teaser', 'ep', 'episod', 'avaetc', 'script', 'marvel', 'blackgirlnerd', 'dvd', 'thriller', 'x-men', 'seri', 'netflix', 'teaser', 'episod', 'documentari', 'netflix', 'ava', 'ep', 'spider-man', 'duvernay', 'thor', 'sequel', 'thriller', 'debut', 'eyez', 'ragnarok', 'okayplay', 'seri', 'spectr', 'movi', 'must-se', 'preview', 'steami', 'biopic', 'therealtaraji', 'octaviaspenc', 'aladdin', 'trailer', 'ragnarok', 'teaser', 'starwar', 'unedit', 'heavenrazah', 'comic-con', 'x-men', 'carpool', 'hangin', 'spectr', 'webseri', 'tremzaylaah', 'thor', 'tribeca', 'omarihardwick', 'brysontil', 'leonean', 'tyburr', 'live-act', 'deadpool', 'raunch', 'rhp', 'gameplay', 'djmalonepro', 'all-new', 'carlton', 'unforgett', 'moonlightmov', 'brucejr', 'terra', 'must-se', 'trailer', 'ep', 'netflix', 'documentari', 'episod', 'marvel', 'ava', 'thriller', 'premier', 'trailer', 'sci-fi', 'documentari', 'avaetc', 'netflix', 'sundanc', 'dynam', 'seri', 'sundanc', 'x-men', 'spider-man', 'moonlight', 'cinemat', 'seri', 'sci-fi', 'comic', 'bgn', 'biopic', 'octaviaspenc', 'therealtaraji', 'webseri', 'moonlightmov', 'opera', 'okayplay', 'janellemona', 'ava', 'sequel', 'hiddenfigur', 'teaser', 'netflix', 'ballerina', 'thriller', 'debut', 'duvernay', 'hip-hop', 'trek', 'dvd', 'cinema', 'marvel']\n",
      "-----\n",
      "#-Topic-# : ['Trump', 'trump', 'realdonaldtrump', 'trump', 'ivanka', 'barron', 'ivana', 'melania', 'president-elect', 'presid', 'donald', 'pence16', 'pence2016', 'votetrump', 'maga', 'trum', 'trump2020', 'election2016', 'trumptrain', 'elections2016', 'trump2016', 'potu', 'trump', 'kellyannepol', 'realdonaldtrump', 'anti-trump', 'trump2020', 'trumptrain', 'teamtrump', 'trump2016', 'maga', 'basketofdeplor', 'americafirst', 'trumptrain', 'votetrump', 'y2', 'tpot', 'hillaryin', 'dumptrump', 'littlebytesnew', 'masa', 'prayerfor', 'repdianeblack', 'orpuw', 'coreyforva', 'imnotwithh', 'trump4', 'rhillari', 'teamtrump', 'imwithh', 'maga3x', '#trumpwhitehous', 'trumpspeaktruth', 'markcuban', 'gotruelytrump', 'trump16', 'hillaryforprison2016', 'neverhillari', 'hillar', 'k16', 'vote2016', 'makeamericagreatagain']\n",
      "-----\n",
      "#-Topic-# : ['Hillary', 'hillari', 'hrc', 'hillaryclinton', 'killari', 'hillari', 'hillaryemail', 'hilliari', 'snob', 'iamwithh', 'hillaryfor', 'hillary2016', 'hillary4', 'imwithh', 'neverhillari', 'hillary4prison', 'hillaryforprison', 'hillaryforprison2016', 'killari', 'rodham', 'draintheswamp', 'lia', 'crookedhillari', 'hrc', 'clinton', 'hillaryclinton', 'billclinton', 'crookedhillari', 'hil', 'hillari', 'killari', 'hillaryforprison2016', 'imwithh', 'lockherup', 'imnotwithh', 'hillaryforprison', 'swingleft', 'makeamericagreatagain', 'draintheswamp', 'votetrump', 'electionday', 'shillari', 'hillary2016', 'hillary4prison', 'prison2016', 'perossmeisl', 'rhillari', 'k16', 'crookedhillari', 'hillaryfornh', 'clintonemail', 'drjamescabot', '#maga', 'hitlari', 'hillaryfor', 'basketofdeplor', 'illari', 'hillary4', 'neve', 'fluffer', 'usaneedstrump', 'neverhillari']\n",
      "-----\n",
      "#-Topic-# : ['Religion', 'religion', 'infidel', 'belief', 'islam', 'ideolog', 'barbar', 'religion', 'islamist', 'muslim', 'infidel', 'jihadist', 'religion', 'non-muslim', 'islam', 'homosexu', 'atheist', 'jew', 'cathol', 'christian', 'fundamentalist', 'antisemit', 'doctrin', 'persecut', 'judaism']\n",
      "-----\n",
      "#-Topic-# : ['Conservative', 'conserv', 'conserv', 'tcotccot', 'ccot', 'ctot', 'pjnet', 'teaparti', 'tcot', 'pjnet', 'lnyhbt', 'teaparti', 'tlot', 'tgdn', 'ctot', 'tcotccot', 'londonbridg', 'orpuw', 'ocra', 'tcot', 'mepolit', 'sioa', 'wildbillusa', 'sgp', 'htt', 'ccot', 'ccot', 'lnyhbt', 'tlot', 'teaparti', 'tcotccot', 'ocra', 'mepolit', 'tgdn', 'sgp', 'libcrib', 'ctot', 'orpuw', 'tcot', 'cco', 'uniteblu', 'htt', 'pegida', 'oi', 'pjnet']\n",
      "-----\n",
      "#-Topic-# : ['Fear', 'fear', 'fear', 'korean', 'lawndal', 'nkorea', 'nk', 'korea', 'south', 'n', 'north', 'northkorea', 'russian', 'putin', 'trumprussia', 'kremlin', 'ukrain', 'trump-russia', 'collus', 'russia', 'russia', 'vladimir', 'russian', 'kremlin', 'diplomat', 'putin', 'jong-un', 'jong', 'burrel', 'kardashian', 'jong-nam', 'jung', 'dotcom', 'kim', 'kim', 'jung', 'burrel', 'jong-un', 'jong-nam', 'dotcom', 'noko', 'haley', 'kratdashian', 'jong']\n",
      "-----\n",
      "#-Topic-# : ['BlackLivesMatter', 'blacklivesmatt', 'blackpeopl', 'trumpprotest', 'policeviol', 'policebrut', 'blackfriday14', 'blackpow', 'blc', 'blacklivesmatt', 'rastasnoddi', 'policebelik', 'newsandstock', 'mrtyson', 'acrad', 'strage', 'champselyse', 'allcopsarebad', 'dosriv', 'adefend', 'diopta', 'unbeliv', 'o2ne1o', 'historia', 'civilrightsmov', 'crakk', 'blackbruin', 'twocran', 'nought', 'shooter2x', 'vallejo', 'lifeforcevib', 'realmagastev', 'trueislam', 'stevegam', 'realfrankfromfl', 'wraith', 'mamamudaro', 'niggatheori', 'watchmen', 'blacklivematt', 'blk', 'black', 'iuic', 'neverforget', 'alllivesmat', 'wolftyla', 'tharealversac', 'spiritchillvib', 'whitelivesmatt', 'sunwalksonwat', 'asianlivesmatt', 'uhm', 'colson', 'atkinson', 'paulon', 'leavin', 'veonsneek', 'vallejo', 'travon', 'september11', 'allcopsarebad', 'boondock', 'cassiu', 'diallo', 'pulver', 'honoredvalor', 'selfmadebp', 'darlin', 'stopkil', 'con-artist', 'lamontlilli', 'mexicanlivesmatt', 'trayvonmartin', 'hoodi', 'martin', 'trayvon', 'trayvon', 'shkreli', 'martin', 'vuhtan', 'dchomo', 'mexicanlivesmatt', 'sophiewoolley', 'blacklivematt', 'rastasnoddi', 'champselyse', 'asianlivesmatt', 'babygirl', 'diopta', 'rachellfilsoof', 'mendesonca', 'djmalonepro', 'justbefreexo', 'colson', 'renenow', 'yesssss', 'zim', 'allcopsarebad', 'alston', 'twitart', 'blackcrim', 'abra', 'fightsupremaci', 'quiero', 'strage', 'wraith', 'canss', 'rula', 'vallejo', 'sandrabland', 'sandra', 'bullock', 'bland', 'cowherd', 'colin', 'nfl', 'kaepernick', 'policeabus', 'blc', 'acab', 'blacktw', 'blackpeopl', 'blackpeopleproblem', 'policest', 'blackpeopletwitt', 'fuckthepolic', 'policebrut', 'paulon', 'allcopsarebastard', 'blackandwhit', 'whitesupremaci', 'blackfriday14', 'blackpow', 'korryngain', 'blackprid', 'blackppl', 'alllivesmat', 'altonsterl', 'asianlivesmatt', 'tharealversac', 'wolftyla', 'blackmattersu', 'whitelivesmatt', 'namethatmovi', 'xpression', 'blackskinisnotacrim', 'racialjusticematt', 'policeviol', 'policebrut', 'brutal', 'blacktw', 'asianlivesmatt', 'policeabus', 'mexicanlivesmatt', 'allcopsarebastard', 'kyballion', 'whitelivesmatt', 'blackpeopl', 'democratg', 'blackpeoplebelik', 'blackppl', 'blackpeopleproblem', 'chvi', 'stopkil', 'blackandwhit', 'gunfreezon', 'democratgermfactori', 'tharealversac', 'antiracismtv', 'franceafriqu', 'policeviol', 'knowthyself', 'newsandstock', 'ownit', 'renenow', 'diopta', 'nought', 'alllivesmat', 'policecrim', 'stoprac', 'fuckthepolic', 'polic', 'nypd', 'unarm', 'policeman', 'cop', 'discrimin', 'slur', 'racial', 'blackcultur', 'blackpow', 'blackpeopleproblem', 'blackhistori', 'blackhistorymonth', 'blacknew', 'blacktwitt', 'kaepernick', 'blackbal', 'colin', 'cowherd', 'colin', 'nfl', 'kaepernick', 'hatr', 'injustic', 'oppress', 'bigotri', 'prejudic', 'sexism', 'racist', 'racism', 'anarchist', 'violent', 'blm', 'hill', 'williamwvaughn', 'amerikkka', 'adamkokesh', 'transphobia', 'blackandwhit', 'blacktw', 'classism', 'policecrim', 'wolftyla', 'liberalthink', 'ableism', 'asianlivesmatt', 'antiracismtv', 'allcopsarebastard', 'blackppl', 'alllivesmat', 'dirtykuffar', 'tharealversac', 'whitelivesmatt', 'stopkil', 'mexicanlivesmatt', 'racialjusticematt', 'smittyoneeach', 'spiritchillvib', 'fuckthepolic', 'policeviol', 'institution', 'johnmetta', 'sirjon', 'selfmadebp', 'veonsneek', 'policeabus', 'whitesupremaci', 'truman', 'potter', 'kamala', 'harri', 'pullman', 'englewood', 'garfield', 'doherti', 'glen', 'brom', 'cornel', 'papua', 'virgina', 'gunn', 'ornett', 'allen', 'tyron', 'hatr', 'injustic', 'oppress', 'bigotri', 'prejudic', 'sexism', 'racist', 'racism', 'blackcultur', 'blackpow', 'blackpeopleproblem', 'blackhistori', 'blackhistorymonth', 'blacknew', 'blacktwitt', 'chattel', 'coloni', 'slave', 'slaveri', 'roberson', 'braverman', 'clanton', 'swalwel', 'bisciotti', 'casebolt', 'decosta', 'holder', 'schneiderman', 'dyson', 'garner', 'pro-black']\n",
      "-----\n",
      "#-Topic-# : ['Voter', 'voter', 'vote', 'voter', 'fraudul', 'fraud', 'regist', 'wisconsin', 'noncitizen', 'registr']\n",
      "-----\n",
      "#-Topic-# : ['MeToo', 'metoo', 'johnmetta', 'girlzparti', 'scotsfyr', 'keithboykin', 'smittyoneeach', 'folllow', 'nought', 'o2ne1o', 'sondrawhatley', 'pollyyzaguirr', 'senatejudiciarycommitteevotesforeignmuslimsmaynotbebannedbasedonreligion', 'newsandstock', '#makecaliforniagreatagain', 'strage', 'angelsandalien', 'politicaljeff', 'wadlondon', 'reflectionsofjm', 'proudexcon', 'roberta', 'snitfit', 'snappolit', 'g-shott', 'darlin', 'onedovealon', 'runningforpizza', 'tvogvo', 'dadtrump', 'facepalmjpg', 'poetshous', 'metoo', 'weinstein', 'sex', 'alleg', 'sexual', 'assault', 'misconduct', 'abus', 'harrass', 'objectifi', 'inappropri', 'harass', 'fetish', 'abus', 'pedophil', 'predat', 'femin', 'women', 'feminist']\n",
      "-----\n",
      "#-Topic-# : ['Terrorism', 'terror', 'terrorist', 'jihadist', 'jihad', 'radic', 'terror', 'shot', 'shooter', 'shoot', 'chicago', 'charlott', 'baltimor', 'explos', 'bomber', 'i', 'bomb', 'i', 'manhattan', 'bomb', 'seasid', 'deton', 'explos', 'puls', 'orlando', 'shoebat', 'esteban', 'munich', 'parkland', 'quebec', 'chattanooga', 'prayforbelgium', 'prayfor', 'vous#prayforbrussel', 'zaventem', 'bruxel', 'brusselsattack', 'brussel', 'prayfortheworld', 'sprout', 'brssel', 'brusselsairport', 'belgium', 'eux', 'prayforbrussel', 'prayfor', 'prayforbrussel', 'prayforbelgium', 'belgium', 'zaventem', 'bruxel', 'vous#prayforbrussel', 'brussel', 'nightclub', 'puls', 'vega', 'massacr', 'bernadino', 'souci', 'diego', 'fran', 'aung', 'wy', 'suu', 'kyi', 'francisco', 'mateo', 'puls', 'fransisco', 'bernardino']\n",
      "-----\n",
      "#-Topic-# : ['Hacking', 'hack', 'hacker', 'interfer', 'meddl', 'interf', 'hack', 'e-mail', 'server', 'document', 'wikileak', 'classifi', 'info', 'memo', 'doc', 'email', 'dnc']\n",
      "-----\n",
      "#-Topic-# : ['Sanders', 'sander', 'madoff', 'berni', 'sanderss', 'bern', 'sander', 'bern', 'sander', 'berni', 'feelthebern', 'bernie2016', 'berni', 'feelth', 'sander', 'berniesand', 'eor', 'sanders2016', 'madoff', 'bern']\n",
      "-----\n",
      "#-Topic-# : ['Obama', 'obama', 'bho', 'obama', 'barrack', 'hussein', 'farewel', 'michel', 'theantifox', 'saddam', 'malia', 'barack', 'barack', 'malia', 'farewel', 'michel']\n",
      "-----\n",
      "#-Topic-# : ['FakeNews', 'fakenew', 'bias', 'jaketapp', 'tapper', 'fake', 'cnn', 'msm', 'cn', 'outlet', 'spew', 'propaganda', 'nsotu', 'fakenew', 'conspiraci', 'collus', 'hysteria', 'hoax', 'debunk']\n",
      "-----\n",
      "#-Topic-# : ['Gouvernment', 'gouvern', 'mai2017', 'ouvert', 'victoir', 'dbat', 'prsidentiel', 'donc', 'solidarit', 'gaiagaudenzi', 'faut', 'franai', 'seul', 'quiero', 'nont', 'cuando', 'depui', 'projet', 'itel', 'avoir', 'coeur', 'toujour', 'personn', 'mtro', 'famil', 'pouvoir', 'maison', 'futuro', 'mdia', 'entrevista', 'terrorism', 'ministr', 'gouvern', 'lawmak', 'sen', 'legisl', 'senat', 'mitch', 'mcconnel', 'senat', 'congressman', 'congresswoman', 'legisl', 'congressmen', 'lawmak']\n",
      "-----\n",
      "#-Topic-# : ['Healthcare', 'healthcar', 'medicar', 'aca', 'benefit', 'medicaid', 'insur', 'obamacar', 'trumpcar', 'subsidi', 'healthcar', 'aca', 'ocar', 'trumpcar', 'repeal', 'ahca', 'healthcar', 'insur', 'subsidi', 'obamacar', 'medicar', 'subsidi', 'budget', 'pension', 'expans', 'healthcar', 'insur', 'aca', 'welfar', 'medicaid', 'ocar', 'obamacar', 'trumpcar', 'repeal', 'healthcar', 'ahca', 'subsidi', 'medicar', 'medicaid', 'premium', 'unafford', 'insur', 'o-car', 'ryancar', 'aca']\n",
      "-----\n",
      "#-Topic-# : ['Gun', 'gun', 'firearm', 'handgun', 'conceal', 'gun', 'infring', 'firearm', 'self-defens', 'conceal', 'carri', 'therein', 'innuendo', 'detector', 'russiafbi', 'flurri', 'brianefallon', 'death2rapegang', 'cruzsexscand', 'hillaryemail', 'backgroundcheck', 'gunright', 'molon', '2', 'labe', 'guncontrol', 'gunsens', '2adefend', 'guns4', 'rooseveltfield', 'teapartynew', 'instotu', 'recoil', 'theteaparti', '2a']\n",
      "-----\n",
      "#-Topic-# : ['Sport', 'sport', 'hockey', 'playoff', 'championship', 'cav', 'nba', 'cub', 'lsu', 'celtic', 'blackhawk', 'vike', 'tournament', 'oriol', 'pitcher', 'softbal', 'basketbal', 'ncaa', 'nhl', 'yanke', 'game', 'afc', 'dodger', 'postseason', 'inning', 'all-star', 'sport', 'playoff', 'cav', 'postseason', 'nfc', 'afc', 'celtic', 'all-star', 'ncaa', 'triple-doubl', 'basketbal', 'score', 'softbal', 'sport', 'mvp', 'cavali', 'dodger', 'championship', 'bryant', 'hockey', 'qb', 'wnba', 'ex-nba', 'kicker', 'nhl', 'tenni', 'rooki', 'vike', 'ex-nfl', 'lsu', 'laker', 'nba', 'ucla', 'volleybal', 'footbal', 'chess', 'tenni', 'hockey', 'poker', 'tournament', 'ncaa', 'wnba', 'soccer', 'rugbi', 'softbal', 'nba', 'ex-nba', 'championship', 'ex-nfl', 'mlb', 'fsu', 'postseason', 'sport', 'kaeperinick', 'playoff', 'hoop', 'basebal', 'laker', 'vike', 'lsu', 'cheerlead', 'titan', 'basketbal', 'celtic', 'afc', 'championship', 'oriol', 'cav', 'draftk', 'raider', 'all-star', 'dodger', 'nba', 'inning', 'hockey', 'quarterback', 'lineup', 'nfc', 'sport', 'rooki', 'triple-doubl', 'lsu', 'pitcher', 'yanke', 'laker', 'postseason', 'nhl', 'softbal', 'score', 'knick', 'bengal', 'ncaa', 'qb', 'playoff', 'yanke', 'cav', 'softbal', 'rugbi', 'sport', 'pitcher', 'playoff', 'celtic', 'championship', 'lsu', 'oriol', 'afc', 'basketbal', 'padr', 'dodger', 'inning', 'cub', 'laker', 'pelican', 'bolt', 'blackhawk', 'knick', 'tenni', 'marlin', 'outfield', 'raider', 'canuck', 'dak', 'lineback', 'hornet', 'hockey', 'curri', 'triple-doubl', 'steph', 'westbrook', 'playoff', 'qb', 'nfc', 'nba', 'cav', 'cross-ov', 'rooki', 'clapback', 'bengal', 'knick', 'draftk', 'td', 'kicker', 'durant', 'wr', 'rodger', 'laker', 'all-star', 'inning', 'dak', 'afc', 'lineback', 'heisman', 'kawhi', 'hornet', 'klay', 'mvp', 'basketbal', 'ncaa', 'poker', 'basebal', 'ucla', 'wnba', 'mlb', 'playoff', 'hockey', 'army-navi', 'kaeperinick', 'footbal', 'basketbal', 'chess', 'hockey', 'rugbi', 'tenni', 'soccer', 'ncaa', 'softbal', 'basketbal', 'afc', 'pitcher', 'all-star', 'playoff', 'hoop', 'championship', 'volleybal', 'oriol', 'nfc', 'inning', 'hockey', 'yanke', 'bracket', 'basebal', 'ucla', 'lynx', 'olymp', 'sport', 'gohound', 'postseason', 'rooki', 'trophi', 'army-navi', 'cav', 'celtic', 'heisman', 'uf', 'tournament', 'playoff', 'hockey', 'heavyweight', 'chess', 'softbal', 'rugbi', 'celtic', 'cub', 'afc', 'laker', 'lsu', 'sport', 'champion', 'pitcher', 'olymp', 'tournament', 'cav', 'raider', 'inning', 'volleybal', 'ncaa', 'nba', 'blackhawk', 'postseason', 'basketbal', 'nfc', 'cup', 'oriol', 'dodger', 'undef', 'championship']\n",
      "-----\n",
      "#-Topic-# : ['Scandal', 'scandal', 'cover-up', 'scandal', 'cash', 'fortun', 'dollar', 'money', 'dei', 'bayer', 'chrysler', 'migranti', 'nea', 'wellsfargo', 'fargo', 'awan', 'shultz', 'wasserman', 'dw', 'debbi', 'georgwebb', 'schultz', 'wasserman-schultz', 'imran', 'imran', 'dw', 'georgwebb', 'shultz', 'schultz', 'wasserman', 'debbi', 'wasserman-schultz', 'awan', 'schultz', 'shultz', 'debbi', 'dw', 'wasserman-schultz', 'imran', 'awan', 'wasserman']\n",
      "-----\n",
      "#-Topic-# : ['Election', 'elect', 'elect', 'campaign', 'republican', 'dem', 'gop', 'republicandeb', 'undercard', 'telemundo', 'gopdeb', 'dnc', 'democrat', 'gop', 'republican', 'dem', 'demndeb', 'demdeb', 'ballot', 'voter', 'vote', 'foxbusinessdeb', 'debat', 'deleg', 'nh', 'nv', 'gerrymand', 'runoff', 'primari', 'convent', 'countri', 'usa', 'america']\n",
      "-----\n",
      "#-Topic-# : ['Charlottesville', 'charlottesvil', 'charlottesvil', 'anti-fascist', 'violent', 'fascist', 'anarchist', 'neo-nazi', 'alt-right', 'leftist', 'facist', 'altleft', 'alt-left', 'supremist', 'ku', 'paidsupport', 'obamasoro', 'klux', 'neanderth', 'neonazi', 'alt-right', 'anti-semit', 'antisemit', 'nazi', 'alt-left', 'anti-fascist', 'islamophob', 'neo-nazi', 'klan', 'antifa', 'kkk', 'ku', 'klux', 'kkk', 'klan', 'nationalist', 'supremaci', 'supr', 'supremist', 'guilt', 'downscal', 'supremacist']\n",
      "-----\n",
      "#-Topic-# : ['Economy', 'economi', 'econom', 'growth', 'consum', 'trillion', 'debt', 'economi', 'agreement', 'deal', 'tpp', 'renegoti', 'nafta', 'market', 'dow', 'revenu', 'gdp', 'soar', 'sampp', 'plummet', 'inflat', 'tumbl', 'stock', 'stock', 'growth', 'optim', 'consum', 'market', 'cryptocurr', 'blockchain', 'forex', 'investor', 'sampp', 'etf', 'bln', 'alibaba', 'bitcoin', 'quarterli', 'dow', 'five-year', 'belmont', 'mazda', 'ethereum', 'sampp', 'toyota', 'yuan', 'record-set', 'outlook', 'aum', 'forecast', 'unexpectedli', 'nasdaq'] \n"
     ]
    }
   ],
   "source": [
    "print('#-Topic-# : {} '.format('\\n-----\\n#-Topic-# : '.join([str(topic) for topic in topic_extended])))"
   ]
  },
  {
   "cell_type": "code",
   "execution_count": null,
   "metadata": {},
   "outputs": [],
   "source": []
  }
 ],
 "metadata": {
  "kernelspec": {
   "display_name": "Python 3",
   "language": "python",
   "name": "python3"
  },
  "language_info": {
   "codemirror_mode": {
    "name": "ipython",
    "version": 3
   },
   "file_extension": ".py",
   "mimetype": "text/x-python",
   "name": "python",
   "nbconvert_exporter": "python",
   "pygments_lexer": "ipython3",
   "version": "3.6.6"
  }
 },
 "nbformat": 4,
 "nbformat_minor": 2
}
