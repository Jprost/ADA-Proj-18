{
 "cells": [
  {
   "cell_type": "code",
   "execution_count": 1,
   "metadata": {},
   "outputs": [],
   "source": [
    "# Import libraries\n",
    "import re\n",
    "import nltk\n",
    "import pickle\n",
    "import requests\n",
    "\n",
    "import numpy as np\n",
    "import pandas as pd\n",
    "import datetime as dt \n",
    "import matplotlib.pyplot as plt\n",
    "\n",
    "from bokeh.models import *\n",
    "from bokeh.plotting import *\n",
    "from datetime import datetime\n",
    "from bs4 import BeautifulSoup\n",
    "from collections import Counter\n",
    "from gensim.models import Word2Vec\n",
    "from bokeh.layouts import column, row\n",
    "from bokeh.palettes import Category20\n",
    "from nltk.stem import PorterStemmer, WordNetLemmatizer\n",
    "from nltk.corpus import stopwords, wordnet, brown, words"
   ]
  },
  {
   "cell_type": "code",
   "execution_count": 2,
   "metadata": {},
   "outputs": [
    {
     "name": "stdout",
     "output_type": "stream",
     "text": [
      "[nltk_data] Downloading package words to /Users/Jean-\n",
      "[nltk_data]     BaptistePROST/nltk_data...\n",
      "[nltk_data]   Package words is already up-to-date!\n"
     ]
    },
    {
     "data": {
      "text/plain": [
       "True"
      ]
     },
     "execution_count": 2,
     "metadata": {},
     "output_type": "execute_result"
    }
   ],
   "source": [
    "nltk.download('words')"
   ]
  },
  {
   "cell_type": "code",
   "execution_count": 3,
   "metadata": {},
   "outputs": [],
   "source": [
    "data='Data/russian-troll-tweets/IRAhandle_tweets_'\n",
    "pickle_files='Pickles/'\n",
    "WORD_FREQ = 'Data/wordfrea.xlsx'\n",
    "plot_files='Plots/'"
   ]
  },
  {
   "cell_type": "markdown",
   "metadata": {
    "heading_collapsed": true
   },
   "source": [
    "# Introduction"
   ]
  },
  {
   "cell_type": "markdown",
   "metadata": {
    "hidden": true
   },
   "source": [
    "The goal of this notebook is to represent the tweet by topics (tahter than category). <br>\n",
    "\n",
    "By looking at the most popular hastag per day, we decided to define 13 arbitrary categories that seemed relevant to characterized the tweets. A first list of words was build for each topic (~ 7 words/topic), then the `Word2Vec` model was used to exten the list. The model enables to find the words that have a large (cosine) similarity the the its word space. The topic became 10 times larger. <br>\n",
    "\n",
    "The tweet activity (number of tweets per day) for each topic was ploted. Clear peaks of activity were observable. \n",
    "Are those peaks related to a specific event?\n",
    "\n",
    "\n",
    "To figure this out, we used [Wiki Portal](https://en.wikipedia.org/wiki/Portal:Current_events) to retrived the information about the event of a particular day. An automatic event dector was build. For every spike of each topic, we tryed to match an event description scrapped from Wiki Portal.<br>\n",
    "We were thus able to label some peak of the tweet activity for each category."
   ]
  },
  {
   "cell_type": "markdown",
   "metadata": {
    "heading_collapsed": true
   },
   "source": [
    "# Data Loading & Word2Vec model"
   ]
  },
  {
   "cell_type": "code",
   "execution_count": 4,
   "metadata": {
    "hidden": true
   },
   "outputs": [],
   "source": [
    "#loading data build in Word2vec.ipynb\n",
    "def load_df(filename=(pickle_files+'df_final.pkl')):\n",
    "    with open(filename, 'rb') as d:\n",
    "        df=pickle.load(d)\n",
    "    print(' DafaFrame loaded <--')\n",
    "    return df"
   ]
  },
  {
   "cell_type": "code",
   "execution_count": 5,
   "metadata": {
    "hidden": true
   },
   "outputs": [
    {
     "name": "stdout",
     "output_type": "stream",
     "text": [
      " DafaFrame loaded <--\n"
     ]
    },
    {
     "data": {
      "text/html": [
       "<div>\n",
       "<style scoped>\n",
       "    .dataframe tbody tr th:only-of-type {\n",
       "        vertical-align: middle;\n",
       "    }\n",
       "\n",
       "    .dataframe tbody tr th {\n",
       "        vertical-align: top;\n",
       "    }\n",
       "\n",
       "    .dataframe thead th {\n",
       "        text-align: right;\n",
       "    }\n",
       "</style>\n",
       "<table border=\"1\" class=\"dataframe\">\n",
       "  <thead>\n",
       "    <tr style=\"text-align: right;\">\n",
       "      <th></th>\n",
       "      <th>publish_date</th>\n",
       "      <th>content</th>\n",
       "      <th>account_category</th>\n",
       "      <th>Clean_tweet</th>\n",
       "      <th>hashtags</th>\n",
       "    </tr>\n",
       "  </thead>\n",
       "  <tbody>\n",
       "    <tr>\n",
       "      <th>0</th>\n",
       "      <td>2017-10-01</td>\n",
       "      <td>\"We have a sitting Democrat US Senator on tria...</td>\n",
       "      <td>RightTroll</td>\n",
       "      <td>[sit, democrat, us, senat, trial, corrupt, bar...</td>\n",
       "      <td>[]</td>\n",
       "    </tr>\n",
       "    <tr>\n",
       "      <th>1</th>\n",
       "      <td>2017-10-01</td>\n",
       "      <td>Marshawn Lynch arrives to game in anti-Trump s...</td>\n",
       "      <td>RightTroll</td>\n",
       "      <td>[marshawn, lynch, arriv, game, anti-trump, shi...</td>\n",
       "      <td>[]</td>\n",
       "    </tr>\n",
       "    <tr>\n",
       "      <th>2</th>\n",
       "      <td>2017-10-01</td>\n",
       "      <td>Daughter of fallen Navy Sailor delivers powerf...</td>\n",
       "      <td>RightTroll</td>\n",
       "      <td>[daughter, fallen, navi, sailor, deliv, power,...</td>\n",
       "      <td>[#BoycottNFL]</td>\n",
       "    </tr>\n",
       "    <tr>\n",
       "      <th>3</th>\n",
       "      <td>2017-10-01</td>\n",
       "      <td>JUST IN: President Trump dedicates Presidents ...</td>\n",
       "      <td>RightTroll</td>\n",
       "      <td>[presid, trump, dedic, presid, cup, golf, tour...</td>\n",
       "      <td>[]</td>\n",
       "    </tr>\n",
       "    <tr>\n",
       "      <th>4</th>\n",
       "      <td>2017-10-01</td>\n",
       "      <td>19,000 RESPECTING our National Anthem! #StandF...</td>\n",
       "      <td>RightTroll</td>\n",
       "      <td>[respect, nation, anthem, stand, anthem]</td>\n",
       "      <td>[#StandForOurAnthem]</td>\n",
       "    </tr>\n",
       "  </tbody>\n",
       "</table>\n",
       "</div>"
      ],
      "text/plain": [
       "  publish_date                                            content  \\\n",
       "0   2017-10-01  \"We have a sitting Democrat US Senator on tria...   \n",
       "1   2017-10-01  Marshawn Lynch arrives to game in anti-Trump s...   \n",
       "2   2017-10-01  Daughter of fallen Navy Sailor delivers powerf...   \n",
       "3   2017-10-01  JUST IN: President Trump dedicates Presidents ...   \n",
       "4   2017-10-01  19,000 RESPECTING our National Anthem! #StandF...   \n",
       "\n",
       "  account_category                                        Clean_tweet  \\\n",
       "0       RightTroll  [sit, democrat, us, senat, trial, corrupt, bar...   \n",
       "1       RightTroll  [marshawn, lynch, arriv, game, anti-trump, shi...   \n",
       "2       RightTroll  [daughter, fallen, navi, sailor, deliv, power,...   \n",
       "3       RightTroll  [presid, trump, dedic, presid, cup, golf, tour...   \n",
       "4       RightTroll           [respect, nation, anthem, stand, anthem]   \n",
       "\n",
       "               hashtags  \n",
       "0                    []  \n",
       "1                    []  \n",
       "2         [#BoycottNFL]  \n",
       "3                    []  \n",
       "4  [#StandForOurAnthem]  "
      ]
     },
     "execution_count": 5,
     "metadata": {},
     "output_type": "execute_result"
    }
   ],
   "source": [
    "df=load_df()\n",
    "df.head()"
   ]
  },
  {
   "cell_type": "markdown",
   "metadata": {
    "hidden": true
   },
   "source": [
    "*Word Freq* is a online dictionary (wordfrequency.info) that gives the occurency the 5000 most commun english words."
   ]
  },
  {
   "cell_type": "code",
   "execution_count": 6,
   "metadata": {
    "hidden": true
   },
   "outputs": [
    {
     "data": {
      "text/html": [
       "<div>\n",
       "<style scoped>\n",
       "    .dataframe tbody tr th:only-of-type {\n",
       "        vertical-align: middle;\n",
       "    }\n",
       "\n",
       "    .dataframe tbody tr th {\n",
       "        vertical-align: top;\n",
       "    }\n",
       "\n",
       "    .dataframe thead th {\n",
       "        text-align: right;\n",
       "    }\n",
       "</style>\n",
       "<table border=\"1\" class=\"dataframe\">\n",
       "  <thead>\n",
       "    <tr style=\"text-align: right;\">\n",
       "      <th></th>\n",
       "      <th>Word</th>\n",
       "      <th>PoS</th>\n",
       "      <th>Frequency</th>\n",
       "    </tr>\n",
       "    <tr>\n",
       "      <th>Rank</th>\n",
       "      <th></th>\n",
       "      <th></th>\n",
       "      <th></th>\n",
       "    </tr>\n",
       "  </thead>\n",
       "  <tbody>\n",
       "    <tr>\n",
       "      <th>1.0</th>\n",
       "      <td>the</td>\n",
       "      <td>a</td>\n",
       "      <td>0.066825</td>\n",
       "    </tr>\n",
       "    <tr>\n",
       "      <th>2.0</th>\n",
       "      <td>be</td>\n",
       "      <td>v</td>\n",
       "      <td>0.038041</td>\n",
       "    </tr>\n",
       "    <tr>\n",
       "      <th>3.0</th>\n",
       "      <td>and</td>\n",
       "      <td>c</td>\n",
       "      <td>0.032569</td>\n",
       "    </tr>\n",
       "    <tr>\n",
       "      <th>4.0</th>\n",
       "      <td>of</td>\n",
       "      <td>i</td>\n",
       "      <td>0.031365</td>\n",
       "    </tr>\n",
       "    <tr>\n",
       "      <th>5.0</th>\n",
       "      <td>a</td>\n",
       "      <td>a</td>\n",
       "      <td>0.030759</td>\n",
       "    </tr>\n",
       "  </tbody>\n",
       "</table>\n",
       "</div>"
      ],
      "text/plain": [
       "     Word PoS  Frequency\n",
       "Rank                    \n",
       "1.0   the   a   0.066825\n",
       "2.0    be   v   0.038041\n",
       "3.0   and   c   0.032569\n",
       "4.0    of   i   0.031365\n",
       "5.0     a   a   0.030759"
      ]
     },
     "execution_count": 6,
     "metadata": {},
     "output_type": "execute_result"
    }
   ],
   "source": [
    "#load data frequency from http://www.wordfrequency.info\n",
    "wordfrequency = pd.read_excel(WORD_FREQ, header=0, index_col=[0], usecols=3).dropna()\n",
    "wordfrequency.Frequency = wordfrequency.Frequency/(wordfrequency.Frequency.sum())\n",
    "wordfrequency.rename(columns={'\\xa0\\xa0\\xa0Word' : 'Word', 'Part of speech' : 'PoS'}, inplace=True)\n",
    "wordfrequency.Word = wordfrequency.apply(lambda row: row['Word'].replace(\"\\xa0\\xa0\\xa0\", ''), axis=1)\n",
    "\n",
    "#5 most communs words\n",
    "wordfrequency.head(5)"
   ]
  },
  {
   "cell_type": "markdown",
   "metadata": {
    "hidden": true
   },
   "source": [
    "**Word2Vec model**"
   ]
  },
  {
   "cell_type": "code",
   "execution_count": 7,
   "metadata": {
    "hidden": true
   },
   "outputs": [
    {
     "name": "stdout",
     "output_type": "stream",
     "text": [
      "Word2Vec(vocab=29316, size=100, alpha=0.025)\n"
     ]
    }
   ],
   "source": [
    "embedding=100\n",
    "#non empty clean tweet\n",
    "tweets=df[df.Clean_tweet.isnull()==False]['Clean_tweet'] #take non empty clean tweet\n",
    "\n",
    "model = Word2Vec(tweets.tolist(), min_count=1, size=embedding)\n",
    "vocab_model=model.wv.vocab\n",
    "print(model)"
   ]
  },
  {
   "cell_type": "markdown",
   "metadata": {},
   "source": [
    "# Topics"
   ]
  },
  {
   "cell_type": "markdown",
   "metadata": {},
   "source": [
    "## List"
   ]
  },
  {
   "cell_type": "markdown",
   "metadata": {},
   "source": [
    "We have identify a list of topic that are frequent and were a debat at the time. We will expore their behavior in the word space hopping to find clusters :\n",
    "* Black lives matter, police brutality, police violence, blacktwitter, racism, NFL Protest, Jamar Clark, Alfredo Olango \n",
    "* music, thefourhorsemen, album \n",
    "* Trump, Donald\n",
    "* Hillary, HeforShe, IamWithHer, crookedHillary \n",
    "* religion\n",
    "* fear, North Korea, Russia, Geopolotics\n",
    "* voter fraud\n",
    "* terror, terrorist, attack, chicago, shootings, baltimore, bombings, Chattanooga\n",
    "* hacking, emails, DNC\n",
    "* Money, scandal, Wells Fargo, Imran Awan\n",
    "* election, campaign, GOP, DNC, Dem, vote, I voted, debate, primary, national convention\n",
    "* alt-righ, alt-left, Charlottesville, neo nazi\n",
    "* economy, deal, Nafta\n",
    "* music, thefourhorsemen, album, fm, nowplaying\n",
    "\n",
    "\n",
    "The list will get expanded thanks to the Word2Vec model. The words that hace a (cosine) similarity larger than a thrshold (0.6) are kept and appended to the list of topics."
   ]
  },
  {
   "cell_type": "code",
   "execution_count": 8,
   "metadata": {},
   "outputs": [],
   "source": [
    "topics_raw=[['Music', 'lyrics', 'album','musician', 'nowplaying', 'soundcloud','rap', 'rnb','hip-hop', 'eminem','nas', 'horsemen', 'dj', 'wayne', 'snoop'],\\\n",
    "        ['Trump', 'melania', 'Donald', 'trump2016','realdonaldtrump', 'anti-trump', 'maga', 'MakeAmericaGreatAgain'],\\\n",
    "        ['Hillary', 'hilliari',  'HeforShe', 'IamWithHer', 'crookedHillary', 'clinton','killari','neverhillari', ],\\\n",
    "        ['Religion', 'islam', 'christianism', 'judaism'],\\\n",
    "        ['Fear', 'Korea', 'North', 'NorthKorea', 'Russia', 'putin', 'Geopolotics', 'kim', 'jong', 'kimjongun'],\\\n",
    "        ['BlackLivesMatters','BlackLiveMatter', 'black', 'trayvonmartin', 'mikebrown', 'sandrabland', 'bland', 'kaepernick','policeviolence', 'brutality' , 'fuckthepolice', 'cop', \\\n",
    "         'racial', 'blacktwitter', 'colin', 'kaepernick','racism' ],\\\n",
    "        ['Voter', 'fraud'],\\\n",
    "        ['MeToo', 'Weinstein', 'sexual', 'harassment', 'predator', 'feminist'],\\\n",
    "        ['Hurricane', 'Irma', 'matthew', 'flood', 'thunderstorm' ],\\\n",
    "        ['Terrorism', 'terror' 'terrorist', 'parisattack', 'londonattack', 'shootings', 'baltimore', 'bombings', 'Chattanooga', 'prayforbrussel', 'brussel', 'massacre'],\\\n",
    "        ['Hacking', 'emails', 'DNC'],\\\n",
    "        ['Obama', 'barack', 'michelle'],\\\n",
    "        ['Money', 'scandal', 'WellsFargo', 'Fargo', 'ImranAwan', 'Imran', 'Awan', 'Wasserman'],\\\n",
    "        ['Election', 'campaign', 'GOP','gopdebate', 'DNC', 'Dem', 'demdebate', 'vote', 'Ivoted', 'debate', 'primary', 'convention', 'america'],\\\n",
    "        ['Charlottesville','alt-righ', 'alt-left',  'neonazi', 'neo-nazi','kkk', 'klan', 'supremacist', 'unitetheright'], \\\n",
    "        ['Economy', 'deal', 'Nafta','stock', 'market','bitcoin', 'nasdaq']]\n"
   ]
  },
  {
   "cell_type": "code",
   "execution_count": 9,
   "metadata": {},
   "outputs": [
    {
     "name": "stdout",
     "output_type": "stream",
     "text": [
      "('hrc', 0.6785647869110107)\n",
      "('hillaryclinton', 0.6027639508247375)\n",
      "('crook', 0.5993449687957764)\n",
      "('slogans4', 0.5369963645935059)\n",
      "('hillari', 0.5149905681610107)\n",
      "('rehir', 0.5136585831642151)\n",
      "('isha', 0.5114279389381409)\n",
      "('webmd', 0.5085569620132446)\n",
      "('candidaci', 0.5001843571662903)\n",
      "('cli', 0.49770089983940125)\n",
      "('cosbi', 0.4947604238986969)\n",
      "('rapey', 0.4941311478614807)\n",
      "('thnx', 0.4740634560585022)\n",
      "('huma', 0.4717243015766144)\n",
      "('maher', 0.4642608165740967)\n",
      "('benghazi', 0.4538607895374298)\n",
      "('berni', 0.45230910181999207)\n",
      "('kristol', 0.4453328847885132)\n",
      "('podesta', 0.438032329082489)\n",
      "('trump', 0.41647055745124817)\n"
     ]
    }
   ],
   "source": [
    "#just an example of the use of the Word2vec Model\n",
    "stemmer = PorterStemmer()\n",
    "word='clinton'\n",
    "try:\n",
    "    print('\\n'.join([str(w) for w in model.wv.most_similar(stemmer.stem(word), topn=20)]))\n",
    "except KeyError:\n",
    "    print('Not in vocabulary or excluded during pre-processing.')"
   ]
  },
  {
   "cell_type": "markdown",
   "metadata": {},
   "source": [
    "### Build extended list"
   ]
  },
  {
   "cell_type": "code",
   "execution_count": 10,
   "metadata": {},
   "outputs": [],
   "source": [
    "def get_related_words(topics, model, min_similarity=0.6):\n",
    "    \"\"\"Get the words that are similar in the word2vec space. \n",
    "    min_similarity determines the threshold of similarity\n",
    "    RETURNS: an extendent list for each topics\"\"\"\n",
    "    topic_extended=[] #new list of words\n",
    "    \n",
    "    for topic in topics:\n",
    "        new_words=[]\n",
    "       \n",
    "        for word_raw in topic:\n",
    "            #modifies the wors as in the preprocessing\n",
    "            word=stemmer.stem(word_raw.lower())\n",
    "            new_words.append(word_raw)\n",
    "            \n",
    "            try: #if the word is in the vocab\n",
    "                related=model.wv.most_similar(word, topn=30) \n",
    "                new_words+=[related[idx][0] for idx, _ in enumerate(related) if related[idx][1] >= min_similarity]\n",
    "            \n",
    "            except KeyError: #the word is not in the vocabulary (anymore)\n",
    "                #new_words.remove(word_raw) #then remove this word\n",
    "                continue\n",
    "                \n",
    "        topic_extended.append(new_words)\n",
    "    \n",
    "    return topic_extended\n",
    "\n",
    "\n",
    "#We will create a new col of stemmed words of wiki's events to compare with tweets keywords\n",
    "link_numbers=('http', '0', '1', '2', '3', '4', '5', '6', '7', '8', '9', '-') #\n",
    "stemmer = PorterStemmer()\n",
    "stop_w=[word.replace('\\'','') for word in stopwords.words('english')]+ ['', '&amp', 'amp','rt'] \n",
    "\n",
    "def tokenize(text):\n",
    "    \"\"\"Split the the tweet into a list of (cleaned words)\"\"\"\n",
    "    text_cleaned = ''.join(ch for ch in text if ch not in '#!\"$%&\\()*+,./:;<=>?@[\\\\]^_{|}~\\'').split(' ') \n",
    "    \n",
    "    words= [word.lower().encode('ascii',errors='ignore').decode() for word in text_cleaned \\\n",
    "            if not ( (word.startswith(link_numbers)) | (word.endswith(link_numbers)) )]\n",
    "    \n",
    "    words=[stemmer.stem(word) for word in words if word not in stop_w ]\n",
    "        \n",
    "    if len(words) > 0:\n",
    "        return words\n",
    "    else: #tweets that contains only links or emojiis ...\n",
    "        pass\n"
   ]
  },
  {
   "cell_type": "code",
   "execution_count": 11,
   "metadata": {},
   "outputs": [
    {
     "name": "stdout",
     "output_type": "stream",
     "text": [
      "We have chosen 16 topics (129 words):\n",
      "    Music\n",
      "    Trump\n",
      "    Hillary\n",
      "    Religion\n",
      "    Fear\n",
      "    BlackLivesMatters\n",
      "    Voter\n",
      "    MeToo\n",
      "    Hurricane\n",
      "    Terrorism\n",
      "    Hacking\n",
      "    Obama\n",
      "    Money\n",
      "    Election\n",
      "    Charlottesville\n",
      "    Economy\n"
     ]
    }
   ],
   "source": [
    "#the firs word of the list represents the concept of each list.\n",
    "topics_raw=[['Music', 'lyrics', 'album','musician', 'nowplaying', 'soundcloud','rap', 'rnb','hip-hop', 'eminem','nas', 'horsemen', 'dj', 'wayne', 'snoop'],\\\n",
    "        ['Trump', 'melania', 'Donald', 'trump2016','realdonaldtrump', 'anti-trump', 'maga', 'MakeAmericaGreatAgain'],\\\n",
    "        ['Hillary', 'hilliari',  'HeforShe', 'IamWithHer', 'crookedHillary', 'Clinton','killari','neverhillari', ],\\\n",
    "        ['Religion', 'islam', 'christianism', 'judaism'],\\\n",
    "        ['Fear', 'Korea', 'North', 'NorthKorea', 'Russia', 'putin', 'Geopolotics', 'kim', 'jong', 'kimjongun'],\\\n",
    "        ['BlackLivesMatters','BlackLiveMatter', 'black', 'trayvonmartin', 'mikebrown', 'sandrabland', 'bland', 'kaepernick','policeviolence', 'brutality' , 'fuckthepolice', 'cop', \\\n",
    "         'racial', 'blacktwitter', 'colin', 'kaepernick','racism' ],\\\n",
    "        ['Voter', 'fraud'],\\\n",
    "        ['MeToo', 'Weinstein', 'sexual', 'harassment', 'predator', 'feminist'],\\\n",
    "        ['Hurricane', 'Irma', 'matthew', 'flood', 'thunderstorm' ],\\\n",
    "        ['Terrorism', 'terror' 'terrorist', 'parisattack', 'londonattack', 'shootings', 'baltimore', 'bombings', 'Chattanooga', 'prayforbrussel', 'brussel', 'massacre'],\\\n",
    "        ['Hacking', 'emails', 'DNC'],\\\n",
    "        ['Obama', 'barack', 'michelle'],\\\n",
    "        ['Money', 'scandal', 'WellsFargo', 'Fargo', 'ImranAwan', 'Imran', 'Awan', 'Wasserman'],\\\n",
    "        ['Election', 'campaign', 'GOP','gopdebate', 'DNC', 'Dem', 'demdebate', 'vote', 'Ivoted', 'debate', 'primary', 'convention', 'america'],\\\n",
    "        ['Charlottesville','alt-righ', 'alt-left',  'neonazi', 'neo-nazi','kkk', 'klan', 'supremacist', 'unitetheright'], \\\n",
    "        ['Economy', 'deal', 'Nafta','stock', 'market','bitcoin', 'nasdaq']]\n",
    "\n",
    "print('We have chosen {} topics ({} words):\\n    {}'.format(len(topics_raw), len(sum(topics_raw,[])), '\\n    '.join([topic[0] for topic in topics_raw])))\n",
    "\n",
    "topics_treated=[]\n",
    "for topic in topics_raw:\n",
    "    topics_treated.append([word.lower() for word in topic])"
   ]
  },
  {
   "cell_type": "markdown",
   "metadata": {},
   "source": [
    "**Extending the list:**"
   ]
  },
  {
   "cell_type": "code",
   "execution_count": 12,
   "metadata": {},
   "outputs": [
    {
     "name": "stdout",
     "output_type": "stream",
     "text": [
      "The extended list is 1048 long.\n"
     ]
    }
   ],
   "source": [
    "topic_extended=get_related_words(topics_raw, model, min_similarity=0.6)\n",
    "\n",
    "print('The extended list is {} long.'.format(len(sum(topic_extended,[]))))"
   ]
  },
  {
   "cell_type": "markdown",
   "metadata": {},
   "source": [
    "**Vectorizing tweets** <br>\n",
    "Each tweet with respect to the topic. If a tweet contains a word contained in the list of a certain topic, then it will have a non null composant in this topic column."
   ]
  },
  {
   "cell_type": "code",
   "execution_count": 13,
   "metadata": {},
   "outputs": [],
   "source": [
    "def tweet_topics(df, topic):\n",
    "    \"\"\"Add a column corresponding to each topic. Fills 1 if the tweet has a word \n",
    "    related to the topic, 0 otherwise \"\"\" \n",
    "    \n",
    "    df_tmp=df[df['Clean_tweet'].isnull()==False]['Clean_tweet']\n",
    "    for topic in topic_extended:\n",
    "        df[topic[0]]= df_tmp.apply(lambda words: 1 if len(set(words) & set(topic))> 0 else 0)\n",
    "        df[topic[0]].fillna(0, inplace=True)\n",
    "\n",
    "tweet_topics(df, topic_extended)"
   ]
  },
  {
   "cell_type": "markdown",
   "metadata": {},
   "source": [
    "## Plotting - tweet activity"
   ]
  },
  {
   "cell_type": "code",
   "execution_count": 25,
   "metadata": {},
   "outputs": [
    {
     "data": {
      "text/plain": [
       "'/Users/Jean-BaptistePROST/Documents/EPFL/ADA-Proj-18/Plots/Topic_noEvent.html'"
      ]
     },
     "execution_count": 25,
     "metadata": {},
     "output_type": "execute_result"
    }
   ],
   "source": [
    "topic_plot = figure(plot_width=950, plot_height=600, x_axis_type='datetime', toolbar_location=\"above\")\n",
    "\n",
    "colorplot=Category20[len(topic_extended)] #form the bokeh palettes\n",
    "start_date = df.publish_date.min()\n",
    "end_date = df.publish_date.max()\n",
    "\n",
    "\n",
    "for color, topic in enumerate(topic_extended): #iterates over each topic\n",
    "    topic_tmp=topic[0]\n",
    "    df_plot=pd.DataFrame(data=df[df[topic_tmp]==1].publish_date.value_counts().sort_index())\n",
    "    \n",
    "    source = ColumnDataSource(data=df_plot)\n",
    "    topic_plt_tmp=topic_plot.line(x='index', y='publish_date', source=source,\\\n",
    "            line_width=2, alpha=0.8, legend=topic_tmp, color=colorplot[color])\n",
    "    \n",
    "    topic_plt_tmp.visible=False\n",
    "\n",
    "topic_plt_tmp.visible=True\n",
    "\n",
    "topic_plot.legend.location = 'top_left'\n",
    "topic_plot.legend.click_policy='hide'\n",
    "topic_plot.title.text = 'Tweeting activity according topic'\n",
    "\n",
    "hover_tool=tools.HoverTool(\n",
    "    tooltips=[\n",
    "        ('Date', '@index{%b %d, %Y}'),\n",
    "        ('Number of tweets','@publish_date')],\n",
    "\n",
    "    formatters={\n",
    "        'index' : 'datetime', # use 'datetime' formatter for 'date' field\n",
    "        'publish_date' : 'printf',   },   # use 'printf' formatter for 'adj close' field\n",
    "\n",
    "    # display a tooltip whenever the cursor is vertically in line with a glyph\n",
    "    mode='vline',\n",
    "    attachment='above',\n",
    "    show_arrow=True,\n",
    ")\n",
    "\n",
    "topic_plot.tools.append(hover_tool)\n",
    "\n",
    "output_file(plot_files+'Topic_noEvent.html')\n",
    "save(topic_plot)"
   ]
  },
  {
   "cell_type": "markdown",
   "metadata": {},
   "source": [
    "**The plot can be seen [here](Plots/Topic_noEvent.html)**"
   ]
  },
  {
   "cell_type": "raw",
   "metadata": {},
   "source": [
    "\n",
    "\n",
    "lemmatizer = WordNetLemmatizer()\n",
    "\n",
    "WORDS_TO_ADD=['donald', 'trump', 'dem', 'gop', 'hillary', 'clinton', 'trayvon', 'tamir', \\\n",
    "              'islam', 'fuck', 'nfl', 'kaepernick', 'dnc', 'charlottesville', 'korea', 'sacramento',\\\n",
    "              'blm', 'alt', 'kkk', 'berkeley', 'wasserman-schultz', 'pence']\n",
    "\n",
    "for word in WORDS_TO_ADD:\n",
    "    word_dictionary.append(word)\n",
    "\n",
    "for alphabet in \"bcdefghjklmnopqrstuvwxyz\":\n",
    "    word_dictionary.remove(alphabet)\n",
    "\n",
    "    \n",
    "def retag(tag):\n",
    "    '''\n",
    "    Receives tags as treebank (VBD) and changes it in wordnet (v) if exsits\n",
    "    '''\n",
    "    if tag.startswith('J'):\n",
    "        return wordnet.ADJ\n",
    "    elif tag.startswith('V'):\n",
    "        return wordnet.VERB\n",
    "    elif tag.startswith('N'):\n",
    "        return wordnet.NOUN\n",
    "    elif tag.startswith('R'):\n",
    "        return wordnet.ADV\n",
    "    else:\n",
    "        return None\n",
    "\n",
    "    \n",
    "    \n",
    "def best_hash_split(hashtag, wordfrequency):\n",
    "    '''\n",
    "    Receives a hashtag and the frequency of the most common 5000 english words. If the word or its lemma is\n",
    "    not in dictionnary, then it splits it. Once split, it assess the most probable split based on word freq. \n",
    "    Returns the hashtag if the word (or lemma) is in dictionnary. Returns the best split if it found one.\n",
    "    If it could find satisfactory split, it returns nothing\n",
    "    '''\n",
    "    #getting all possible splits\n",
    "    if (hashtag not in word_dictionary) | (stemmer.stem(hashtag) not in word_dictionary):\n",
    "        all_splits = split_hashtag_to_words_all_possibilities(hashtag)\n",
    "        max_prob = 0\n",
    "        i = 0\n",
    "        best_split = 0\n",
    "        for possible_splits in all_splits:\n",
    "            #tag the splits\n",
    "            word_pos = nltk.pos_tag(possible_splits)\n",
    "            probabilities = []\n",
    "            for (word, pos) in word_pos:\n",
    "                #if the word is already in wordfrequency, get its frequency\n",
    "                if (wordfrequency.Word == word).any():\n",
    "                    probabilities.append(wordfrequency[wordfrequency.Word.str.lower() == word].max()[2])\n",
    "                else:\n",
    "\n",
    "                    freq = (wordfrequency[wordfrequency.Word.str.lower() == lemmatizer.lemmatize\\\n",
    "                                                                            (word, pos=retag(pos))].max()[2])\n",
    "                    #otherwise, if lemma is in wordfrequ get its frequency\n",
    "                    if freq > 0:\n",
    "                        probabilities.append(freq)\n",
    "                    #if not, keep lowest freq we find.\n",
    "                    else : \n",
    "                        probabilities.append(wordfrequency.Frequency.min())\n",
    "            split_prob = np.prod(probabilities)\n",
    "            if split_prob > max_prob:\n",
    "                max_prob = split_prob\n",
    "                best_split = i\n",
    "            i = i + 1\n",
    "        if len(all_splits) != 0:\n",
    "            return all_splits[best_split]  \n",
    "        else:\n",
    "            return []\n",
    "    else:\n",
    "        return hashtag\n",
    "               \n",
    "    \n",
    "def split_hashtag_to_words_all_possibilities(hashtag):\n",
    "    '''\n",
    "    Receives a hashtag and returns all the possible splits.\n",
    "    '''\n",
    "    hashtag = hashtag.lower()\n",
    "    all_possibilities = [] \n",
    "    split_posibility = [hashtag[:i] in word_dictionary for i in reversed(range(len(hashtag)+1))]\n",
    "    possible_split_positions = [i for i, x in enumerate(split_posibility) if x == True]\n",
    "    for split_pos in possible_split_positions:\n",
    "        split_words = []\n",
    "        word_1, word_2 = hashtag[:len(hashtag)-split_pos], hashtag[len(hashtag)-split_pos:]\n",
    "        if word_2 in word_dictionary:\n",
    "            split_words.append(word_1)\n",
    "            split_words.append(word_2)\n",
    "            all_possibilities.append(split_words)\n",
    "\n",
    "            another_round = split_hashtag_to_words_all_possibilities(word_2)\n",
    "\n",
    "            if len(another_round) > 0:\n",
    "                all_possibilities = all_possibilities + [[a1] + a2 for a1, a2, in zip([word_1]*len(another_round), another_round)]\n",
    "        else:\n",
    "            another_round = split_hashtag_to_words_all_possibilities(word_2)\n",
    "            \n",
    "            if len(another_round) > 0:\n",
    "                all_possibilities = all_possibilities + [[a1] + a2 for a1, a2, in zip([word_1]*len(another_round), another_round)]\n",
    "                      \n",
    "    return all_possibilities\n"
   ]
  },
  {
   "cell_type": "markdown",
   "metadata": {},
   "source": [
    "# Web scrapping"
   ]
  },
  {
   "cell_type": "markdown",
   "metadata": {},
   "source": [
    "We use Wikipedia Portal which lists every event that have happened for each day. The html template is always the same enabling us to efficiently scrap it.\n",
    "\n",
    "\n",
    "\n",
    "We want to detect the event related to the spike of tweets:\n",
    "* For each categry, a threshold is define to localize the date spikes. \n",
    "* Wikipedia Portal is scrapped at the url of the date. The text follows the same pre-process as the tweets words.\n",
    "* A matching of the subsection of the web page and the word of the list is done.\n",
    "* We retrieve the description of the event if it its related to the topic."
   ]
  },
  {
   "cell_type": "raw",
   "metadata": {},
   "source": [
    "#We will create a new col of stemmed words of wiki's events to compare with tweets keywords\n",
    "link_numbers=('http', '0', '1', '2', '3', '4', '5', '6', '7', '8', '9', '-') #\n",
    "stemmer = PorterStemmer()\n",
    "stop_w=[word.replace('\\'','') for word in stopwords.words('english')]+ ['', '&amp', 'amp','rt'] \n",
    "\n",
    "def tokenize(text):\n",
    "    \"\"\"Split the the tweet into a list of (cleaned words)\"\"\"\n",
    "    text_cleaned = ''.join(ch for ch in text if ch not in '#!\"$%&\\()*+,./:;<=>?@[\\\\]^_{|}~\\'').split(' ') \n",
    "    \n",
    "    words= [word.lower().encode('ascii',errors='ignore').decode() for word in text_cleaned \\\n",
    "            if not ( (word.startswith(link_numbers)) | (word.endswith(link_numbers)) )]\n",
    "    \n",
    "    words=[stemmer.stem(word) for word in words if word not in stop_w ]\n",
    "        \n",
    "    if len(words) > 0:\n",
    "        return words\n",
    "    else: #tweets that contains only links or emojiis ...\n",
    "        pass"
   ]
  },
  {
   "cell_type": "code",
   "execution_count": 15,
   "metadata": {},
   "outputs": [],
   "source": [
    "#Getting web page\n",
    "WIKI_PORTAL = \"https://en.wikipedia.org/wiki/Portal:Current_events/\"\n",
    "\n",
    "def event_scrapper(date):\n",
    "    \"\"\"Retrieve the information of the events that happened around a date window\"\"\"\n",
    "    \n",
    "    #take two days before and one day after the date\n",
    "    dates = [date + dt.timedelta(day,0) for day in [-1,0]]\n",
    "    #daily events are stored in df\n",
    "    event_df = pd.DataFrame(columns=['Date', 'Description', 'Category', 'Link'])\n",
    "    \n",
    "    for date in dates:\n",
    "        #strftime gives 0-padded days...\n",
    "        year = date.strftime(\"%Y\")\n",
    "        month = date.strftime(\"%B\")\n",
    "        day = re.sub(\"^[0]\", \"\", date.strftime(\"%d\"))  #removing 0 at beggining of day\n",
    "\n",
    "        #right format for wiki portal and requesting html\n",
    "        url_date = year + \"_\" + month + \"_\" + day\n",
    "        r = requests.get(WIKI_PORTAL + url_date)\n",
    "        \n",
    "        #print('Response status code: {0}\\n'.format(r.status_code))\n",
    "        \n",
    "        page_body = r.text\n",
    "        soup = BeautifulSoup(page_body, 'html.parser')\n",
    "\n",
    "        #For every category of events (dt), we look for every events from bullet list (li)\n",
    "        if soup.findAll(\"dt\"):\n",
    "            \n",
    "            for category in soup.findAll(\"dt\"):\n",
    "\n",
    "                li = category.findNext(\"li\")\n",
    "                while li:\n",
    "                    #replacing \\n, and removing sources: text. e.g. (CNN). \n",
    "                    #we decided to split text using regex and keeping only text before first source\n",
    "                    full_text = re.split(\".\\s\\(\", li.getText().replace('\\n', '. '))\n",
    "                    no_source = full_text[0]\n",
    "                    new_event = pd.DataFrame({'Date': [date], \\\n",
    "                                              'Description': [no_source],\\\n",
    "                                              'Category': [category.getText()], \\\n",
    "                                              'Link': [li.a]})\n",
    "\n",
    "\n",
    "                    event_df = event_df.append(new_event, ignore_index=True, sort=False)\n",
    "                    li = li.findNextSibling(\"li\")\n",
    "            \n",
    "            #event_df['Stemmed_Content']=event_df.apply(lambda row: tokenize(row['Description']), axis=1)\n",
    "            \n",
    "        \n",
    "        else: #other template of wiki portal \n",
    "            for category in soup.findAll(\"p\"):\n",
    "                category_title=category.findNext().getText()\n",
    "                li = category.findNext(\"li\")\n",
    "                while li:\n",
    "  \n",
    "                    full_text = re.split(\".\\s\\(\", li.getText().replace('\\n', '. '))\n",
    "                    no_source = full_text[0]\n",
    "                    new_event = pd.DataFrame({'Date': [date], \\\n",
    "                                              'Description': [no_source],\\\n",
    "                                              'Category': [category_title], \\\n",
    "                                              'Link': [li.a]})\n",
    "\n",
    "\n",
    "                    event_df = event_df.append(new_event, ignore_index=True, sort=False)\n",
    "                    li = li.findNextSibling(\"li\")\n",
    "\n",
    "        \n",
    "    #stemming the content of the events description\n",
    "    event_df['Stemmed_Content']=event_df.apply(lambda row: tokenize(row['Description']), axis=1)\n",
    "\n",
    "    return event_df\n",
    "\n",
    "\n",
    "def event_detector(df, topic_extended):\n",
    "    \"\"\"Detect the event by web scrapping. Returns the dataframe of events' description\n",
    "    per day, the topic and the recall of the process (number of event that match over\n",
    "    the number of tweet spikes)\"\"\"\n",
    "    print('Srapping ...')\n",
    "    \n",
    "    events_df=pd.DataFrame(columns=['Date', 'Topic', 'Event', 'Stemmed'])\n",
    "    nb_dates=0\n",
    "    nb_detected=0\n",
    "    \n",
    "    for topic in topic_extended:\n",
    "        topic_tmp=topic[0]\n",
    "        print('  _ '+topic_tmp)\n",
    "        \n",
    "        #create dataframe\n",
    "        df_topic=pd.DataFrame(data=df[df[topic_tmp]==1].publish_date.value_counts().sort_index().reset_index())\n",
    "        df_topic.rename(columns={'index':'Date', 'publish_date': 'Count'}, inplace=True)\n",
    "\n",
    "        #get date  where tweet activity is above the thresold\n",
    "        threshold=df_topic.Count.mean() + 2.25*df_topic.Count.std()\n",
    "        dates_thr=df_topic[df_topic.Count >= threshold].index\n",
    "        #less than threshold?\n",
    "        dates=[df_topic.loc[date,'Date'] for date in dates_thr if df_topic.loc[date-1,'Count'] < threshold]\n",
    "        \n",
    "        for date in dates:\n",
    "            nb_dates+=1 #counter for recall score\n",
    "            event=event_scrapper(date)\n",
    "            \n",
    "            \n",
    "            try: \n",
    "                #matching the description and the words of the topic\n",
    "                matching_score=event.Stemmed_Content.apply(lambda words: len(set(words) & set(topic)))\n",
    "                max_match=matching_score.max() \n",
    "                #print(max_match)\n",
    "                \n",
    "                if (max_match > 0) : #avoid empty results\n",
    "                    nb_detected+=1#counter for recall score\n",
    "                   \n",
    "                    #if two descriptions have the same matching score\n",
    "                    for idx_max_match in matching_score[matching_score==max_match].index:\n",
    "                    \n",
    "                        tmp=pd.DataFrame({'Date': [event.loc[idx_max_match, 'Date']], \\\n",
    "                                          'Topic': [topic_tmp], \\\n",
    "                                          'Event': [event.loc[idx_max_match,'Description']]})\n",
    "                        events_df=events_df.append(tmp, ignore_index=True, sort=False)\n",
    "                        \n",
    "            \n",
    "            except AttributeError: #track of potential error\n",
    "                print(date)\n",
    "                continue\n",
    "            \n",
    "            except TypeError:\n",
    "                print('No content has been found during scrap')\n",
    "    \n",
    "    \n",
    "    events_df.drop_duplicates(inplace=True)\n",
    "    \n",
    "    return events_df, nb_detected/nb_dates, \n",
    "    \n",
    "    "
   ]
  },
  {
   "cell_type": "code",
   "execution_count": 16,
   "metadata": {
    "scrolled": true
   },
   "outputs": [
    {
     "name": "stdout",
     "output_type": "stream",
     "text": [
      "Srapping ...\n",
      "  _ Music\n",
      "  _ Trump\n",
      "  _ Hillary\n",
      "  _ Religion\n",
      "  _ Fear\n",
      "  _ BlackLivesMatters\n",
      "  _ Voter\n",
      "  _ MeToo\n",
      "  _ Hurricane\n",
      "  _ Terrorism\n",
      "  _ Hacking\n",
      "  _ Obama\n",
      "  _ Money\n",
      "  _ Election\n",
      "  _ Charlottesville\n",
      "  _ Economy\n"
     ]
    }
   ],
   "source": [
    "events_df, recall= event_detector(df, topic_extended)"
   ]
  },
  {
   "cell_type": "markdown",
   "metadata": {},
   "source": [
    "# Correlation"
   ]
  },
  {
   "cell_type": "code",
   "execution_count": 17,
   "metadata": {},
   "outputs": [
    {
     "name": "stdout",
     "output_type": "stream",
     "text": [
      "The event detector matched 61.03% (134) of the tweet peak\n"
     ]
    }
   ],
   "source": [
    "print('The event detector matched {:0.2f}% ({}) of the tweet peak'.format(100*recall, events_df.shape[0]))"
   ]
  },
  {
   "cell_type": "markdown",
   "metadata": {},
   "source": [
    "### Plotting"
   ]
  },
  {
   "cell_type": "code",
   "execution_count": 18,
   "metadata": {},
   "outputs": [
    {
     "name": "stderr",
     "output_type": "stream",
     "text": [
      "/Users/Jean-BaptistePROST/miniconda3/envs/ada/lib/python3.6/site-packages/ipykernel_launcher.py:46: SettingWithCopyWarning: \n",
      "A value is trying to be set on a copy of a slice from a DataFrame.\n",
      "Try using .loc[row_indexer,col_indexer] = value instead\n",
      "\n",
      "See the caveats in the documentation: http://pandas.pydata.org/pandas-docs/stable/indexing.html#indexing-view-versus-copy\n"
     ]
    }
   ],
   "source": [
    "plot_threshold=True\n",
    "\n",
    "start_date = df.publish_date.min()\n",
    "end_date = df.publish_date.max()\n",
    "\n",
    "topic_plot = figure(plot_width=950, plot_height=600, x_axis_type='datetime',\\\n",
    "                    y_range=[-10,4800], toolbar_location=None)\n",
    "\n",
    "colorplot=Category20[len(topic_extended)] #form the bokeh palettes\n",
    "\n",
    "ymax=[]\n",
    "legend_tmp=[]\n",
    "\n",
    "\n",
    "for color, topic in enumerate(topic_extended): #iterates over each topic\n",
    "    topic_tmp=topic[0]\n",
    "    \n",
    "    #tweets\n",
    "    df_plot=pd.DataFrame(data=df[df[topic_tmp]==1].publish_date.value_counts().sort_index())\n",
    "    ymax.append(df_plot.publish_date.max())\n",
    "    \n",
    "    \n",
    "    if plot_threshold:\n",
    "        threshold=df_plot.publish_date.mean() + 2* df_plot.publish_date.std()\n",
    "        threshold_plt_tmp=topic_plot.line(x=[start_date,end_date],\\\n",
    "                                      y=[threshold,threshold],\\\n",
    "                                      color=colorplot[color], alpha=0.5, )\n",
    "        threshold_plt_tmp.visible=False\n",
    "    \n",
    "    source = ColumnDataSource(data=df_plot)\n",
    "    topic_plt_tmp=topic_plot.line(x='index', y='publish_date', source=source,\\\n",
    "            line_width=2, alpha=0.9, color=colorplot[color])\n",
    "    \n",
    "    hover_tool=tools.HoverTool(\n",
    "        tooltips=[\n",
    "            ('Date', '@index{%b %d, %Y}'),\n",
    "            ('Number of tweets','@publish_date')],\n",
    "        formatters={\n",
    "            'index' : 'datetime', \n",
    "            'publish_date' : 'printf',},   \n",
    "        mode='vline',\n",
    "        attachment='above',\n",
    "        renderers=[topic_plt_tmp])\n",
    "\n",
    "    topic_plot.tools.append(hover_tool)\n",
    "    topic_plt_tmp.visible=False\n",
    "\n",
    "    #events\n",
    "    event_plot=events_df[events_df['Topic']==topic_tmp]\n",
    "    event_plot['Y']=4500\n",
    "    source_event=ColumnDataSource(data=event_plot)\n",
    "    event_plot_tmp=topic_plot.scatter(x='Date', y='Y', source=source_event,\\\n",
    "                                       fill_color=colorplot[color], color=None, size=10, alpha=0.5)\n",
    "    \n",
    "    hover_event=tools.HoverTool(\n",
    "        tooltips=[('Event', '@Event'),\\\n",
    "                  ('Date', '@Date{%b %d, %Y}')],\n",
    "        formatters={'Event' : 'printf', 'Date' : 'datetime' },  \n",
    "        mode=\"vline\",\n",
    "        attachment='right',\n",
    "        show_arrow=False,\n",
    "        renderers=[event_plot_tmp])\n",
    "\n",
    "    topic_plot.tools.append(hover_event)\n",
    "    event_plot_tmp.visible=False\n",
    "    \n",
    "    legend_tmp.append((topic_tmp,[threshold_plt_tmp, topic_plt_tmp,  event_plot_tmp]))\n",
    "    \n",
    "    #displays only the first line at the begining\n",
    "    if color==0:\n",
    "        threshold_plt_tmp.visible=True\n",
    "        event_plot_tmp.visible=True\n",
    "        topic_plt_tmp.visible=True\n",
    "\n",
    "\n",
    "\n",
    "topic_plot.legend.location = 'top_left'\n",
    "topic_plot.legend.orientation = \"vertical\"\n",
    "topic_plot.legend.click_policy='hide'\n",
    "topic_plot.legend.label_text_font_size='8pt'\n",
    "\n",
    "topic_plot.title.text = 'Tweeting activity according topic'\n",
    "topic_plot.yaxis.bounds=(0,max(ymax))\n",
    "\n",
    "#output_notebook()\n",
    "\n",
    "legend = Legend(items=legend_tmp,\\\n",
    "               click_policy='hide')\n",
    "topic_plot.add_layout(legend, 'left')"
   ]
  },
  {
   "cell_type": "code",
   "execution_count": 19,
   "metadata": {},
   "outputs": [],
   "source": [
    "show(topic_plot)"
   ]
  },
  {
   "cell_type": "code",
   "execution_count": 20,
   "metadata": {},
   "outputs": [
    {
     "data": {
      "text/plain": [
       "'/Users/Jean-BaptistePROST/Documents/EPFL/ADA-Proj-18/Plots/Topic_Events.html'"
      ]
     },
     "execution_count": 20,
     "metadata": {},
     "output_type": "execute_result"
    }
   ],
   "source": [
    "output_file(plot_files+'Topic_Events.html')\n",
    "save(topic_plot)"
   ]
  },
  {
   "cell_type": "markdown",
   "metadata": {},
   "source": [
    "The plot can be seen [here](Plots/Topic_Events.html)"
   ]
  },
  {
   "cell_type": "raw",
   "metadata": {},
   "source": [
    "import nltk\n",
    "from nltk.corpus import brown, words\n",
    "nltk.download('words')\n",
    "\n",
    "lemmatizer = WordNetLemmatizer()\n",
    "\n",
    "WORDS_TO_ADD=['donald', 'trump', 'dem', 'gop', 'hillary', 'clinton', 'trayvon', 'tamir', 'rice' \\\n",
    "              'islam', 'fuck', 'nfl', 'kaepernick', 'dnc', 'charlottesville', 'korea', 'sacramento',\\\n",
    "              'blm', 'alt', 'kkk', 'berkeley', 'music', 'michael', 'brown', 'mike']\n",
    "word_dictionary = list(set(words.words()))\n",
    "\n",
    "for word in WORDS_TO_ADD:\n",
    "    word_dictionary.append(word)\n",
    "\n",
    "for alphabet in \"bcdefghjklmnopqrstuvwxyz\":\n",
    "    word_dictionary.remove(alphabet)\n",
    "\n",
    "    \n",
    "def retag(tag):\n",
    "    '''\n",
    "    Receives tags as treebank (VBD) and changes it in wordnet (v) if exsits\n",
    "    '''\n",
    "    if tag.startswith('J'):\n",
    "        return wordnet.ADJ\n",
    "    elif tag.startswith('V'):\n",
    "        return wordnet.VERB\n",
    "    elif tag.startswith('N'):\n",
    "        return wordnet.NOUN\n",
    "    elif tag.startswith('R'):\n",
    "        return wordnet.ADV\n",
    "    else:\n",
    "        return wordnet.NOUN\n",
    "\n",
    "    \n",
    "    \n",
    "def best_hash_split(hashtag, wordfrequency):\n",
    "    '''\n",
    "    Receives a hashtag and the frequency of the most common 5000 english words. If the word or its lemma is\n",
    "    not in dictionnary, then it splits it. Once split, it assess the most probable split based on word freq. \n",
    "    Returns the hashtag if the word (or lemma) is in dictionnary. Returns the best split if it found one.\n",
    "    If it could find satisfactory split, it returns nothing\n",
    "    '''\n",
    "    #getting all possible splits\n",
    "    if (hashtag not in word_dictionary) | (stemmer.stem(hashtag) not in word_dictionary):\n",
    "        all_splits = split_hashtag_to_words_all_possibilities(hashtag)\n",
    "        max_prob = 0\n",
    "        i = 0\n",
    "        best_split = 0\n",
    "        for possible_splits in all_splits:\n",
    "            #tag the splits\n",
    "            word_pos = nltk.pos_tag(possible_splits)\n",
    "            probabilities = []\n",
    "            for (word, pos) in word_pos:\n",
    "                #if the word is already in wordfrequency, get its frequency\n",
    "                if (wordfrequency.Word == word).any():\n",
    "                    probabilities.append(wordfrequency[wordfrequency.Word.str.lower() == word].max()[2])\n",
    "                else:\n",
    "\n",
    "                    freq = (wordfrequency[wordfrequency.Word.str.lower() == lemmatizer.lemmatize\\\n",
    "                                                                            (word, pos=retag(pos))].max()[2])\n",
    "                    #otherwise, if lemma is in wordfrequ get its frequency\n",
    "                    if freq > 0:\n",
    "                        probabilities.append(freq)\n",
    "                    #if not, keep lowest freq we find.\n",
    "                    else : \n",
    "                        probabilities.append(wordfrequency.Frequency.min())\n",
    "            split_prob = np.prod(probabilities)\n",
    "            if split_prob > max_prob:\n",
    "                max_prob = split_prob\n",
    "                best_split = i\n",
    "            i = i + 1\n",
    "            print(max_prob)\n",
    "        if (len(all_splits) != 0) & (max_prob > np.exp(-25)):            \n",
    "            return all_splits[best_split]  \n",
    "        else:\n",
    "            return [hashtag]\n",
    "    else:\n",
    "        return [hashtag]\n",
    "               \n",
    "    \n",
    "def split_hashtag_to_words_all_possibilities(hashtag):\n",
    "    '''\n",
    "    Receives a hashtag and returns all the possible splits.\n",
    "    '''\n",
    "    hashtag = hashtag.lower()\n",
    "    all_possibilities = [] \n",
    "    split_posibility = [hashtag[:i] in word_dictionary for i in reversed(range(len(hashtag)+1))]\n",
    "    possible_split_positions = [i for i, x in enumerate(split_posibility) if x == True]\n",
    "    for split_pos in possible_split_positions:\n",
    "        split_words = []\n",
    "        word_1, word_2 = hashtag[:len(hashtag)-split_pos], hashtag[len(hashtag)-split_pos:]\n",
    "        if word_2 in word_dictionary:\n",
    "            split_words.append(word_1)\n",
    "            split_words.append(word_2)\n",
    "            all_possibilities.append(split_words)\n",
    "\n",
    "            another_round = split_hashtag_to_words_all_possibilities(word_2)\n",
    "\n",
    "            if len(another_round) > 0:\n",
    "                all_possibilities = all_possibilities + [[a1] + a2 for a1, a2, in zip([word_1]*len(another_round), another_round)]\n",
    "        else:\n",
    "            another_round = split_hashtag_to_words_all_possibilities(word_2)\n",
    "            \n",
    "            if len(another_round) > 0:\n",
    "                all_possibilities = all_possibilities + [[a1] + a2 for a1, a2, in zip([word_1]*len(another_round), another_round)]\n",
    "                      \n",
    "    return all_possibilities\n",
    "\n",
    "new_topic_extended = [hashtag_splitter(hashlist) for hashlist in topic_extended]"
   ]
  },
  {
   "cell_type": "markdown",
   "metadata": {},
   "source": [
    "# Tweets' distribution statisitcs"
   ]
  },
  {
   "cell_type": "code",
   "execution_count": 26,
   "metadata": {},
   "outputs": [],
   "source": [
    "df['Categorical'] = np.sum(df[df.columns[5:]], axis=1)"
   ]
  },
  {
   "cell_type": "code",
   "execution_count": 27,
   "metadata": {},
   "outputs": [
    {
     "data": {
      "text/plain": [
       "Index(['publish_date', 'content', 'account_category', 'Clean_tweet',\n",
       "       'hashtags', 'Music', 'Trump', 'Hillary', 'Religion', 'Fear',\n",
       "       'BlackLivesMatters', 'Voter', 'MeToo', 'Hurricane', 'Terrorism',\n",
       "       'Hacking', 'Obama', 'Money', 'Election', 'Charlottesville', 'Economy',\n",
       "       'Categorical'],\n",
       "      dtype='object')"
      ]
     },
     "execution_count": 27,
     "metadata": {},
     "output_type": "execute_result"
    }
   ],
   "source": [
    "df.columns"
   ]
  },
  {
   "cell_type": "code",
   "execution_count": 29,
   "metadata": {},
   "outputs": [],
   "source": [
    "def get_category_distribution(df, topic):\n",
    "    '''\n",
    "    Returns the percentage of tweets by topic\n",
    "    '''\n",
    "    results = pd.DataFrame()\n",
    "    tot = len(df)\n",
    "    tot_r = len(df[df.account_category == 'RightTroll'])\n",
    "    tot_l = len(df[df.account_category == 'LeftTroll'])\n",
    "    \n",
    "    for i in range(len(topic)):\n",
    "        results.loc[df.columns[i+5], 'Percent'] = np.round(100*(df[df.columns[i+5]].sum()/tot),2)\n",
    "        results.loc[df.columns[i+5], 'Percent_Right'] = np.round(100*(df[df.account_category == 'RightTroll'][df.columns[i+5]].sum()/tot_r),2)\n",
    "        results.loc[df.columns[i+5], 'Percent_Left'] = np.round(100*(df[df.account_category == 'LeftTroll'][df.columns[i+5]].sum()/tot_l),2)\n",
    "    \n",
    "    return results\n",
    "\n",
    "def uncategorized_vocab(tweets, min_occurence=30):\n",
    "    \"\"\"Gathers all the words that are more frequent than min_occurence\"\"\"\n",
    "    voc_raw=[]\n",
    "    for words in tweets:\n",
    "        if words: #if not None\n",
    "            voc_raw+=words # add to voca\n",
    "    count_=Counter(voc_raw) #count frequency\n",
    "    uncat_voc = pd.DataFrame.from_dict(count_, orient='index').reset_index()\n",
    "    uncat_voc = uncat_voc.rename(columns={'index':'word', 0:'count'})\n",
    "    uncat_relevant=pd.DataFrame()\n",
    "    \n",
    "    for i in range(len(uncat_voc)):\n",
    "        if (uncat_voc.iloc[i]['word'] not in stop_w) & (len(uncat_voc.iloc[i]['word']) > 4):\n",
    "            uncat_relevant.loc[i, 'Word'] = uncat_voc.iloc[i]['word']\n",
    "            uncat_relevant.loc[i, 'Count'] = uncat_voc.iloc[i]['count']\n",
    "\n",
    "    \n",
    "    return uncat_relevant\n",
    "\n",
    "def get_uncat_voc(tweets, min_count=30):\n",
    "    \"\"\"Recovers the vocabulary from pickles\"\"\"\n",
    "    filename=pickle_files+'uncat_vocabulary_'+str(min_count)+'.pkl'\n",
    "    \n",
    "    try:\n",
    "        with open(filename, 'rb') as uncat_voc:\n",
    "            uncat_vocabulary=pickle.load(uncat_voc) \n",
    "        print(\"Vocab loaded <---\")\n",
    "            \n",
    "    except: \n",
    "        uncat_vocabulary= uncategorized_vocab(tweets)\n",
    "        \n",
    "        with open(filename, 'wb') as uncat_voc:\n",
    "            pickle.dump(uncat_vocabulary, uncat_voc, pickle.HIGHEST_PROTOCOL) #saving the voc\n",
    "            \n",
    "    return uncat_vocabulary\n",
    "\n",
    "def save_topic_df(df, filename=pickle_files +'topic_df.plk'):\n",
    "   \n",
    "    with open(filename, 'wb') as df_top:\n",
    "        pickle.dump(df, df_top, pickle.HIGHEST_PROTOCOL)\n",
    "    print('Dateframe saved -->')\n",
    "        "
   ]
  },
  {
   "cell_type": "code",
   "execution_count": 30,
   "metadata": {},
   "outputs": [
    {
     "name": "stdout",
     "output_type": "stream",
     "text": [
      "Categorized tweets represent: 45.59% of all the tweets. However, 'RighTroll' tweets are categorized in 49.25%, against 39.36 for 'LeftTroll'\n",
      "\n",
      "45.59% of all the tweets appear in more than one category.\n",
      "\n",
      "0.50% of all the tweets are 'empty'.\n",
      "\n",
      "Hashtags are present in: 31.65% of all the tweets, 'RightTrolls' rely more on hashtags, including them in : 34.45% of their tweets, compared with 26.88% for 'LeftTrolls'\n"
     ]
    }
   ],
   "source": [
    "topic_proportion = get_category_distribution(df, topic_extended)\n",
    "cat_tweet = (100*len(df[df.Categorical > 0])/len(df))\n",
    "r_cat_tweet = (100*len(df[(df.Categorical > 0) & (df.account_category == 'RightTroll')]) / len(df[df.account_category == 'RightTroll']))\n",
    "l_cat_tweet = 100*len(df[(df.Categorical > 0) & (df.account_category == 'LeftTroll')]) / len(df[df.account_category == 'LeftTroll'])\n",
    "print(\"Categorized tweets represent: {:0.2f}% of all the tweets. However, 'RighTroll' tweets are categorized in {:0.2f}%, against {:0.2f} for 'LeftTroll'\".format(cat_tweet, r_cat_tweet, l_cat_tweet))\n",
    "\n",
    "more_cat = (100*len(df[df.Categorical > 1])/len(df))\n",
    "print('\\n{:0.2f}% of all the tweets appear in more than one category.'.format(more_cat))\n",
    "\n",
    "empty_tweets = (100*len(df[df.Clean_tweet.isnull()])/len(df))\n",
    "print(\"\\n{:0.2f}% of all the tweets are 'empty'.\".format(empty_tweets))\n",
    "\n",
    "df['hash_cat'] = df.hashtags.apply(lambda x: 1 if len(x) > 0 else 0)\n",
    "hash_per = (100*df.hash_cat.sum()/len(df))\n",
    "hash_per_r = (100*df[df.account_category == 'RightTroll'].hash_cat.sum()/len(df[df.account_category=='RightTroll']))\n",
    "hash_per_l = (100*df[df.account_category == 'LeftTroll'].hash_cat.sum()/len(df[df.account_category=='LeftTroll']))\n",
    "print(\"\\nHashtags are present in: {:0.2f}% of all the tweets, 'RightTrolls' rely more on hashtags, including them in : {:0.2f}% of their tweets, compared with {:0.2f}% for 'LeftTrolls'\"\n",
    "      .format(hash_per, hash_per_r, hash_per_l))"
   ]
  },
  {
   "cell_type": "code",
   "execution_count": 31,
   "metadata": {},
   "outputs": [],
   "source": [
    "topic_proportion.to_csv('TopicTroll.csv')"
   ]
  },
  {
   "cell_type": "code",
   "execution_count": 32,
   "metadata": {},
   "outputs": [
    {
     "data": {
      "text/html": [
       "<div>\n",
       "<style scoped>\n",
       "    .dataframe tbody tr th:only-of-type {\n",
       "        vertical-align: middle;\n",
       "    }\n",
       "\n",
       "    .dataframe tbody tr th {\n",
       "        vertical-align: top;\n",
       "    }\n",
       "\n",
       "    .dataframe thead th {\n",
       "        text-align: right;\n",
       "    }\n",
       "</style>\n",
       "<table border=\"1\" class=\"dataframe\">\n",
       "  <thead>\n",
       "    <tr style=\"text-align: right;\">\n",
       "      <th></th>\n",
       "      <th>Percent</th>\n",
       "      <th>Percent_Right</th>\n",
       "      <th>Percent_Left</th>\n",
       "    </tr>\n",
       "  </thead>\n",
       "  <tbody>\n",
       "    <tr>\n",
       "      <th>Music</th>\n",
       "      <td>2.95</td>\n",
       "      <td>0.59</td>\n",
       "      <td>6.97</td>\n",
       "    </tr>\n",
       "    <tr>\n",
       "      <th>Trump</th>\n",
       "      <td>15.63</td>\n",
       "      <td>20.61</td>\n",
       "      <td>7.17</td>\n",
       "    </tr>\n",
       "    <tr>\n",
       "      <th>Hillary</th>\n",
       "      <td>3.96</td>\n",
       "      <td>5.76</td>\n",
       "      <td>0.88</td>\n",
       "    </tr>\n",
       "    <tr>\n",
       "      <th>Religion</th>\n",
       "      <td>2.63</td>\n",
       "      <td>3.62</td>\n",
       "      <td>0.93</td>\n",
       "    </tr>\n",
       "    <tr>\n",
       "      <th>Fear</th>\n",
       "      <td>2.54</td>\n",
       "      <td>2.98</td>\n",
       "      <td>1.79</td>\n",
       "    </tr>\n",
       "    <tr>\n",
       "      <th>BlackLivesMatters</th>\n",
       "      <td>8.45</td>\n",
       "      <td>4.54</td>\n",
       "      <td>15.11</td>\n",
       "    </tr>\n",
       "    <tr>\n",
       "      <th>Voter</th>\n",
       "      <td>2.11</td>\n",
       "      <td>2.56</td>\n",
       "      <td>1.35</td>\n",
       "    </tr>\n",
       "    <tr>\n",
       "      <th>MeToo</th>\n",
       "      <td>2.56</td>\n",
       "      <td>2.33</td>\n",
       "      <td>2.94</td>\n",
       "    </tr>\n",
       "    <tr>\n",
       "      <th>Hurricane</th>\n",
       "      <td>0.65</td>\n",
       "      <td>0.78</td>\n",
       "      <td>0.43</td>\n",
       "    </tr>\n",
       "    <tr>\n",
       "      <th>Terrorism</th>\n",
       "      <td>3.12</td>\n",
       "      <td>3.59</td>\n",
       "      <td>2.33</td>\n",
       "    </tr>\n",
       "    <tr>\n",
       "      <th>Hacking</th>\n",
       "      <td>0.86</td>\n",
       "      <td>1.03</td>\n",
       "      <td>0.56</td>\n",
       "    </tr>\n",
       "    <tr>\n",
       "      <th>Obama</th>\n",
       "      <td>0.45</td>\n",
       "      <td>0.52</td>\n",
       "      <td>0.31</td>\n",
       "    </tr>\n",
       "    <tr>\n",
       "      <th>Money</th>\n",
       "      <td>0.83</td>\n",
       "      <td>1.06</td>\n",
       "      <td>0.44</td>\n",
       "    </tr>\n",
       "    <tr>\n",
       "      <th>Election</th>\n",
       "      <td>10.62</td>\n",
       "      <td>13.54</td>\n",
       "      <td>5.66</td>\n",
       "    </tr>\n",
       "    <tr>\n",
       "      <th>Charlottesville</th>\n",
       "      <td>2.06</td>\n",
       "      <td>2.55</td>\n",
       "      <td>1.23</td>\n",
       "    </tr>\n",
       "    <tr>\n",
       "      <th>Economy</th>\n",
       "      <td>1.62</td>\n",
       "      <td>1.80</td>\n",
       "      <td>1.33</td>\n",
       "    </tr>\n",
       "  </tbody>\n",
       "</table>\n",
       "</div>"
      ],
      "text/plain": [
       "                   Percent  Percent_Right  Percent_Left\n",
       "Music                 2.95           0.59          6.97\n",
       "Trump                15.63          20.61          7.17\n",
       "Hillary               3.96           5.76          0.88\n",
       "Religion              2.63           3.62          0.93\n",
       "Fear                  2.54           2.98          1.79\n",
       "BlackLivesMatters     8.45           4.54         15.11\n",
       "Voter                 2.11           2.56          1.35\n",
       "MeToo                 2.56           2.33          2.94\n",
       "Hurricane             0.65           0.78          0.43\n",
       "Terrorism             3.12           3.59          2.33\n",
       "Hacking               0.86           1.03          0.56\n",
       "Obama                 0.45           0.52          0.31\n",
       "Money                 0.83           1.06          0.44\n",
       "Election             10.62          13.54          5.66\n",
       "Charlottesville       2.06           2.55          1.23\n",
       "Economy               1.62           1.80          1.33"
      ]
     },
     "execution_count": 32,
     "metadata": {},
     "output_type": "execute_result"
    }
   ],
   "source": [
    "topic_proportion"
   ]
  },
  {
   "cell_type": "code",
   "execution_count": 33,
   "metadata": {},
   "outputs": [
    {
     "data": {
      "image/png": "[encoded data removed]",
      "text/plain": [
       "<Figure size 1296x576 with 1 Axes>"
      ]
     },
     "metadata": {
      "needs_background": "light"
     },
     "output_type": "display_data"
    }
   ],
   "source": [
    "ax=topic_proportion[['Percent_Right','Percent_Left']].plot.bar(stacked=True, \\\n",
    "                                                               figsize=(18,8), color=['tomato', 'dodgerblue'])\n",
    "ax.set(ylabel='Spearman coefficient')\n",
    "plt.show()"
   ]
  },
  {
   "cell_type": "code",
   "execution_count": null,
   "metadata": {},
   "outputs": [],
   "source": [
    "uncat_vocabulary=get_uncat_voc(df[df.Categorical == 0].Clean_tweet, min_count=30)"
   ]
  },
  {
   "cell_type": "code",
   "execution_count": null,
   "metadata": {},
   "outputs": [],
   "source": [
    "#uncat_vocabulary.sort_values(by='Count', ascending=False).head(50)"
   ]
  },
  {
   "cell_type": "code",
   "execution_count": null,
   "metadata": {},
   "outputs": [],
   "source": [
    "save_topic_df(df)"
   ]
  },
  {
   "cell_type": "code",
   "execution_count": 34,
   "metadata": {
    "scrolled": false
   },
   "outputs": [
    {
     "name": "stdout",
     "output_type": "stream",
     "text": [
      "#-Topic-# : ['Music', 'song', 'hip-hop', 'lyrics', 'jcolenc', 'quavostuntin', 'migo', 'tidalhifi', 'raekwon', 'snoopdogg', 'jcole', 'remast', 'trvisxx', 'solang', 'rappersiq', 'hip-hop', 'rapsodi', 'aguilera', 'bigboi', 'pushat', 'funkflex', 'desiign', 'dmx', 'collab', 'kweli', 'chrisbrown', 'treysongz', 'youngthug', 'pusha', 'trippi', 'nickiminaj', 'remix', 'fwm', 'frenchmontana', 'album', 'ep', 'platinum', 'chancetherapp', 'eyez', 'mixtap', 'donaldglov', 'musician', 'unsign', 'tymon', 'hip-hop', 'storytel', 'songwrit', 'dondatta', 'dancehal', 'edarababyg', 'rampb', 'soni', 'compos', 'tidalhifi', 'jazz', 'self-taught', 'rb', 'vinyl', 'mogul', 'grime', 'disc', 'showcas', 'hoffa', 'poet', 'regga', 'artwork', 'underr', 'spotifi', 'aampr', 'futurist', 'photographi', 'opera', 'nowplaying', 'dagr8fm', 'djshinnergmailcom', 'bryson', 'tiller', 'dej', 'beatz', 'intro', 'mikewillmadeit', 'jeremih', 'rockiefresh', 'powertalkwog', 'mikeydollaz', 'prod', 'akon', 'trina', 'jeezi', 'bigsean', 'otgenasi', 'boosi', 'loaf', 'killa', 'dollaz', 'pushat', 'djshinner', 'swizz', 'regina', 'chainz', 'torylanez', 'makin', 'ludacri', 'soundcloud', 'datpiff', 'audiomack', 'buynow', 'click', 'musicpromo', 'top8', 'limitedtim', 'recordd', 'promo', 'bandcamp', 'getabuzz', 'widget', 'repost', 'livemixtap', 'rap', 'hiphop', 'onli', 'rnb', 'dancehal', 'topstarhiphopra', 'ricorecklezz', 'tidalhifi', 'groov', 'futureofnewyork', 'nervedjsmixtap', 'djkingassassin', 'kingbon', 'djquestgh', 'beatz', 'treysongz', 'tidal', 'hhchiphop', 'youngthug', 'breeziefbabi', 'djgumba', 'hiphopgod', 'topstarhiphop', 'powertalkwog', 'top20', 'dcloud9devi8tor', 'salsa', 'outro', 'tshirt', 'djhivolum', 'n1', 'rappersiq', 'regga', 'quavostuntin', 'hip-hop', 'tidalhifi', 'dancehal', 'rnb', 'musician', 'rampb', 'regga', 'soni', 'showcas', 'tidal', 'tymon', 'duo', 'visual', 'rb', 'djhivolum', 'ballerina', 'disc', 'rotat', 'storytel', 'unsign', 'okayplay', 'artwork', 'gorillaz', 'jazz', 'livemixtap', 'x-men', 'hiphopgod', 'djquestgh', 'emce', 'opera', 'debut', 'eminem', 'nas', 'sade', 'djsyonkream', 'tidalhifi', 'raekwon', 'youngthug', 'rapsodi', 'delux', 'quavostuntin', 'djkhale', 'jcolenc', 'asvpxrocki', 'mikewillmadeit', 'daveeast', 'frenchmontana', 'realremyma', 'donaldglov', 'trvisxx', 'dollaz', 'pandoraradio', 'tydollasign', 'lordlumin', 'bigboi', 'yg', 'outkast', 'pandoramus', 'boogi', 'beatz', 'prod', 'wizkhalifa', 'mikey', 'horsemen', 'mashup', 'hiphopgoldenera', 'hiphophead', 'hiphopmus', 'grafitti', 'twitart', 'oldschool', 'shadetreekde', 'k-dee', 'jeffstonesmus', 'dualiti', 'baphomet', 'basquiat', 'fineart', 'horseman', 'smokedza', 'plata', 'ralofamgoon', 'supa', 'tug', 'mavi', 'flora', 'whitehead', 'dishwash', 'deja', 'maino', 'psychedel', 'wallstreet', 'cuzzi', 'jacqu', 'dj', 'mixshow', 'djkennistarr', 'djquestgh', 'skroogmkduk', 'djtonyhard', 'og', 'bvhk', 'officialcoredj', 'jermainedupri', 'topstarhiphopra', 'powertalkwog', 'topstarhiphop', 'youngthug', 'mrchuckd', 'top20', 'collab', 'hiphopgod', 'bizdatroof', 'deejayalexm', 'vybe', 'js', 'djgumba', 'rnb', 'ricorecklezz', 'k100radio', 'yfnlucci', 'rotat', 'riddim', 'realsway', 'nervedjsmixtap', 'wayne', 'durk', 'yachti', 'bibbi', 'birdman', 'boosi', 'uzi', 'duval', 'snoop', 'dogg', 'hotnewhiphop', 'wiz', 'khalifa', 'boosi', 'tyga', 'badazz', 'lilyachti', 'teelonzo', 'lhh', 'desiign', 'youngthug', 'aap', 'dmx', 'fucc', 'quik', 'realremyma', 'offsetyrn', 'keke', 'frenchmontana', 'yg', 'checkitout', 'juelz', 'iamakademik', 'redbon', 'jeremih', 'trvisxx', 'vu', 'ludacri', 'sizzl']\n",
      "-----\n",
      "#-Topic-# : ['Trump', 'realdonaldtrump', 'melania', 'ivanka', 'barron', 'ivana', 'Donald', 'presid', 'president-elect', 'trump2016', 'pence16', 'pence2016', 'maga', 'trumptrain', 'trump2020', 'elections2016', 'women4', 'realdonaldtrump', 'potu', 'trump', 'anti-trump', 'maga', 'trump2020', 'teamtrump', 'trumptrain', 'trump2016', 'MakeAmericaGreatAgain', 'trumptrain', 'basketofdeplor', 'americafirst', 'votetrump', 'tpot', 'y2', '#trumpwhitehous', 'trump4', 'coreyforva', 'masa', 'trump2020', 'hillaryin', 'imwithh', 'hillaryforprison2016', 'rhillari', 'markcuban', 'teamtrump', '#maga', 'k16', 'littlebytesnew', 'prayerfor', 'captncnk', 'neve', 'sawmilltat', 'cjcboi', 'meetup', 'orpuw', 'ycot', 'electionday', 'neverhillari']\n",
      "-----\n",
      "#-Topic-# : ['Hillary', 'hrc', 'hillaryclinton', 'killari', 'hilliari', 'hilli', 'skank', 'HeforShe', 'IamWithHer', 'bernie2016', 'snob', 'crookedHillary', 'fluffer', 'hillary4', 'imwithh', 'neverhillari', 'hillaryfor', 'hillary2016', 'hillaryforprison', 'hillaryforprison2016', 'illari', 'killari', 'hillary4prison', 'cleak', 'dn', 'Clinton', 'hrc', 'hillaryclinton', 'killari', 'crookedhillari', 'hil', 'hillari', 'hillaryclinton', 'hillaryforprison2016', 'neverhillari', 'hillaryforprison2016', 'hillaryforprison', 'draintheswamp', 'hillary4prison', 'lockherup', 'shillari', 'imwithh', 'hillary2016', 'makeamericagreatagain', 'crookedhillari', 'imnotwithh', 'riggedelect', 'votetrump', 'electionday', '#maga', 'fluffer', 'trumptrain', 'hillary4', 'rhillari', 'indivisibleteam', 'swingleft', 'basketofdeplor', 'usaneedstrump', 'prison2016', 'neve', 'pence2016', 'elections2016', 'illari', 'clintonemail', 'k16']\n",
      "-----\n",
      "#-Topic-# : ['Religion', 'belief', 'infidel', 'ideolog', 'islam', 'non-muslim', 'secular', 'islam', 'islamist', 'muslim', 'infidel', 'religion', 'jihadist', 'non-muslim', 'christianism', 'homosexu', 'cathol', 'atheist', 'jew', 'persecut', 'judaism', 'fundamentalist', 'atheism', 'orthodox']\n",
      "-----\n",
      "#-Topic-# : ['Fear', 'Korea', 'korean', 'nkorea', 'nk', 'North', 'south', 'n', 'NorthKorea', 'Russia', 'russian', 'putin', 'kremlin', 'trumprussia', 'ukrain', 'collus', 'trump-russia', 'putin', 'russia', 'russian', 'vladimir', 'kremlin', 'us-russia', 'diplomat', 'Geopolotics', 'kim', 'jong-un', 'jong', 'jong-nam', 'kardashian', 'burrel', 'noko', 'kourtney', 'dotcom', 'jong', 'kim', 'jong-un', 'jong-nam', 'jung', 'burrel', 'dotcom', 'noko', 'kourtney', 'kratdashian', 'haley', 'kimjongun']\n",
      "-----\n",
      "#-Topic-# : ['BlackLivesMatters', 'notmypresid', 'trumpprotest', 'policeviol', 'policebrut', 'blackpow', 'blc', 'blackfriday14', 'dropthecharg', 'BlackLiveMatter', 'rastasnoddi', 'blackbruin', 'trueislam', 'mrtyson', 'mydailymanna', 'diopta', 'policebelik', 'peopledontgetit', 'niggatheori', 'civilrightsmov', 'strage', 'newsandstock', 'protestpoetri', 'crakk', 'allcopsarebad', 'acrad', 'shooter2x', 'lifeforcevib', 'yourlifematt', 'wraith', 'nought', 'daaaamn', 'blackcrim', 'historia', 'confl', 'adefend', 'unbeliv', 'djchrisjamaica', 'renenow', 'gaiagaudenzi', 'black', 'blk', 'trayvonmartin', 'neverforget', 'iuic', 'treyvon', 'alllivesmat', 'leahntorr', 'sunwalksonwat', 'con-artist', 'kiki', 'tharealversac', 'ssgt', 'lfebr', 'git', 'time100', 'wolftyla', 'happybirthday', 'whitelivesmatt', 'mvzexplor', 'nevil', 'feministabul', 'travon', 'seul', 'blkvoic', 'blaze1theston', 'blackprid', 'franktmcveeti', 'diallo', 'nublackvis', 'jr7jc', 'pbuh', 'mamba', 'mikebrown', 'sandrabland', 'sophiewoolley', 'diopta', 'markgkirshn', 'wraith', 'blackppl', 'protestpoetri', 'blacklivematt', 'bexolog', 'rula', 'skepta', 'nought', 'crimesmelan', 'jihadist2ndwif', 'realdjpremi', 'peopledontgetit', 'niggatheori', 'tharealversac', 'rastasnoddi', 'justbefreexo', 'acrad', 'strage', 'blackbruin', 'mexicanlivesmatt', 'dchomo', 'texasflyty', 'sett', 'shooter2x', 'macki', 'lifeforcevib', 'dilrubale', 'bland', 'sandra', 'bullock', 'kaepernick', 'cowherd', 'colin', 'nfl', 'policeviolence', 'policeabus', 'blackpeopleproblem', 'blacktw', 'blc', 'policest', 'blackpeopletwitt', 'allcopsarebastard', 'blackandwhit', 'fuckthepolic', 'acab', 'paulon', 'blackpeopl', 'blackpow', 'whitesupremaci', 'blkvoic', 'problack', 'blackfriday14', 'antiracismtv', 'korryngain', 'xpression', 'tharealversac', 'altonsterl', 'blackprid', 'alllivesmat', 'blackpeoplebelik', 'wolftyla', 'anoncopwatch', 'asianlivesmatt', 'policebrut', 'blackmattersu', 'brutality', 'fuckthepolice', 'allcopsarebastard', 'blacktw', 'mexicanlivesmatt', 'asianlivesmatt', 'policeabus', 'blackpeoplebelik', 'diopta', 'antiracismtv', 'newsandstock', 'allcopsarebad', 'vallejo', 'whitelivesmatt', 'chvi', 'tharealversac', 'dchomo', 'blackandwhit', 'bexolog', 'blackpeopleproblem', 'f4f', 'blackprid', 'badcop', 'twocran', 'protestpoetri', 'franceafriqu', 'korryngain', 'democratg', 'rula', 'jaybewar', 'blackgirl', 'democratgermfactori', 'cop', 'polic', 'policeman', 'policebrut', 'unarm', 'racial', 'discrimin', 'implicit', 'slur', 'blacktwitter', 'blackpow', 'blackcultur', 'blacknew', 'blackhistori', 'blackhistorymonth', 'blackpeopleproblem', 'blc', 'colin', 'kaepernick', 'kaepernick', 'cowherd', 'colin', 'nfl', 'racism', 'hatr', 'bigotri', 'injustic', 'sexism', 'oppress', 'homophobia']\n",
      "-----\n",
      "#-Topic-# : ['Voter', 'vote', 'fraud', 'fraudul']\n",
      "-----\n",
      "#-Topic-# : ['MeToo', 'prejud', 'unbeliv', 'redvirgostaci', 'blackcrim', 'strage', 'rnrkansa', 'protestpoetri', 'dojsuedferguson', 'folllow', 'tswhitesid', 'g-shott', 'notot', 'algiordano', 'stopterror', 'cbeelman', 'nought', 'yetagainimback', 'smittyoneeach', 'nialelkim', 'ableism', 'double-cross', 'repmattgaetz', 'amberaquariu', 'politicaljeff', 'realfrankfromfl', 'trueislam', 'democratg', 'suffragett', 'butlr', 'o2ne1o', 'Weinstein', 'sexual', 'sex', 'harass', 'harassment', 'assault', 'misconduct', 'abus', 'harrass', 'truckitrich', 'sexual', 'alleg', 'predator', 'abus', 'deviant', 'pedophil', 'pervert', 'pedophilia', 'orient', 'feminist', 'femin', 'women', 'sjw']\n",
      "-----\n",
      "#-Topic-# : ['Hurricane', 'irma', 'matthew', 'Irma', 'hurrican', 'matthew', 'matthew', 'hurrican', 'mathew', 'irma', 'flood', 'thunderstorm', 'tornado', 'tsunami', 'quak', 'northeast', 'interst', 'magnitud', 'nepal', 'bermuda', 'blizzard', 'nw', 'reced', 'compart', 'volcano', 'gust', 'earthquak', 'w8', 'fla', 'queensland', 'mph', 'bahama', 'coastlin', 'leve', 'outbreak', 'northwest']\n",
      "-----\n",
      "#-Topic-# : ['Terrorism', 'terrorist', 'jihadist', 'jihad', 'radic', 'terrorterrorist', 'parisattack', 'londonattack', 'shootings', 'shot', 'shooter', 'baltimore', 'chicago', 'milwauke', 'bombings', 'explos', 'bomber', 'Chattanooga', 'puls', 'orlando', 'munich', 'officer-involv', 'istanbul', 'prayforbrussel', 'prayfor', 'prayforbelgium', 'zaventem', 'bruxel', 'vous#prayforbrussel', 'brusselsattack', 'brussel', 'prayfortheworld', 'sprout', 'belgiqu', 'belgium', 'brussel', 'prayfor', 'prayforbelgium', 'prayforbrussel', 'zaventem', 'bruxel', 'belgium', 'massacre', 'nightclub', 'vega']\n",
      "-----\n",
      "#-Topic-# : ['Hacking', 'hacker', 'interfer', 'meddl', 'emails', 'e-mail', 'server', 'document', 'wikileak', 'classifi', 'memo', 'info', 'doc', 'DNC']\n",
      "-----\n",
      "#-Topic-# : ['Obama', 'bho', 'barack', 'barrack', 'hussein', 'michel', 'farewel', 'sasha', 'malia', 'michelle', 'barack', 'malia', 'farewel']\n",
      "-----\n",
      "#-Topic-# : ['Money', 'cash', 'billion', 'fortun', 'scandal', 'WellsFargo', 'nea', 'brasilia', 'migranti', 'pcb', 'nycshutitdown', 'fonseca', 'volkswagen', 'atampt', 'ableg', 'millionsmarch', 'dei', 'lagard', 'espaa', 'annapoli', 'avoir', 'divest', 'mossack', 'chrysler', 'ue', 'subprim', 'out-of-control', 'Fargo', 'ImranAwan', 'Imran', 'awan', 'shultz', 'georgwebb', 'wasserman-schultz', 'wasserman', 'debbi', 'dw', 'Awan', 'imran', 'debbi', 'dw', 'wasserman', 'shultz', 'georgwebb', 'schultz', 'wasserman-schultz', 'Wasserman', 'schultz', 'shultz', 'debbi', 'dw', 'wasserman-schultz', 'awan', 'imran']\n",
      "-----\n",
      "#-Topic-# : ['Election', 'campaign', 'GOP', 'republican', 'dem', 'democrat', 'gopdebate', 'republicandeb', 'undercard', 'abcgop', 'clinton-trump', 'DNC', 'Dem', 'democrat', 'gop', 'republican', 'demdebate', 'vote', 'voter', 'Ivoted', 'debate', 'foxbusinessdeb', 'primary', 'deleg', 'nv', 'caucus', 'nh', 'convention', 'america', 'countri', 'usa', 'amer']\n",
      "-----\n",
      "#-Topic-# : ['Charlottesville', 'alt-righ', 'alt-left', 'fascist', 'anti-fascist', 'alt-right', 'neo-nazi', 'anarchist', 'leftist', 'violent', 'facist', 'antifa', 'neonazi', 'supremist', 'obamasoro', 'ku', 'neo-nazi', 'alt-right', 'anti-semit', 'alt-left', 'antisemit', 'nazi', 'right-w', 'fascist', 'kkk', 'klan', 'klan', 'ku', 'klux', 'kkk', 'supremacist', 'nationalist', 'supremaci', 'supremist', 'supr', 'guilt', 'unitetheright']\n",
      "-----\n",
      "#-Topic-# : ['Economy', 'econom', 'growth', 'consum', 'trillion', 'deal', 'agreement', 'negoti', 'Nafta', 'tpp', 'trade', 'stock', 'dow', 'market', 'soar', 'yuan', 'growth', 'revenu', 'market', 'stock', 'growth', 'optim', 'bitcoin', 'forex', 'blockchain', 'investor', 'cryptocurr', 'currenc', 'verizon', 'revenu', 'hardwar', 'nasdaq', 'dow', 'sampp', 'quarterli', 'aum', 'pace', 'back-to-back', 'belmont', 'yuan', 'canuck', 'record-set', 'ethereum', 'five-year', 'mazda', 'treasuries-u'] \n"
     ]
    }
   ],
   "source": [
    "print('#-Topic-# : {} '.format('\\n-----\\n#-Topic-# : '.join([str(topic) for topic in topic_extended])))"
   ]
  },
  {
   "cell_type": "code",
   "execution_count": null,
   "metadata": {},
   "outputs": [],
   "source": []
  }
 ],
 "metadata": {
  "kernelspec": {
   "display_name": "Python 3",
   "language": "python",
   "name": "python3"
  },
  "language_info": {
   "codemirror_mode": {
    "name": "ipython",
    "version": 3
   },
   "file_extension": ".py",
   "mimetype": "text/x-python",
   "name": "python",
   "nbconvert_exporter": "python",
   "pygments_lexer": "ipython3",
   "version": "3.6.6"
  }
 },
 "nbformat": 4,
 "nbformat_minor": 2
}
